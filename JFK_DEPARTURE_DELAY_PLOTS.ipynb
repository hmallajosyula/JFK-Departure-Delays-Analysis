{
 "cells": [
  {
   "cell_type": "code",
   "execution_count": 1,
   "metadata": {
    "collapsed": true
   },
   "outputs": [],
   "source": [
    "import pandas as pd\n",
    "import matplotlib.pyplot as plt\n",
    "%matplotlib inline\n",
    "import numpy as np"
   ]
  },
  {
   "cell_type": "code",
   "execution_count": 2,
   "metadata": {
    "collapsed": false
   },
   "outputs": [],
   "source": [
    "from IPython.display import display\n",
    "import plotly.plotly as py # interactive graphing\n",
    "import plotly.offline\n",
    "import plotly.graph_objs as go\n",
    "from plotly.graph_objs import Bar, Scatter, Marker, Layout \n",
    "\n"
   ]
  },
  {
   "cell_type": "code",
   "execution_count": 3,
   "metadata": {
    "collapsed": false
   },
   "outputs": [
    {
     "data": {
      "text/html": [
       "<style>body {\n",
       "    margin: 0;\n",
       "    font-family: Helvetica;\n",
       "}\n",
       "table.dataframe {\n",
       "    border-collapse: collapse;\n",
       "    border: none;\n",
       "}\n",
       "table.dataframe tr {\n",
       "    border: none;\n",
       "}\n",
       "table.dataframe td, table.dataframe th {\n",
       "    margin: 0;\n",
       "    border: 1px solid white;\n",
       "    padding-left: 0.25em;\n",
       "    padding-right: 0.25em;\n",
       "}\n",
       "table.dataframe th:not(:empty) {\n",
       "    background-color: #fec;\n",
       "    text-align: left;\n",
       "    font-weight: normal;\n",
       "}\n",
       "table.dataframe tr:nth-child(2) th:empty {\n",
       "    border-left: none;\n",
       "    border-right: 1px dashed #888;\n",
       "}\n",
       "table.dataframe td {\n",
       "    border: 2px solid #ccf;\n",
       "    background-color: #f4f4ff;\n",
       "}\n",
       "h3 {\n",
       "    color: white;\n",
       "    background-color: black;\n",
       "    padding: 0.5em;\n",
       "}\n",
       "</style>"
      ],
      "text/plain": [
       "<IPython.core.display.HTML object>"
      ]
     },
     "execution_count": 3,
     "metadata": {},
     "output_type": "execute_result"
    }
   ],
   "source": [
    "from IPython.core.display import HTML\n",
    "css = open('style-table.css').read() + open('style-notebook.css').read()\n",
    "HTML('<style>{}</style>'.format(css))"
   ]
  },
  {
   "cell_type": "markdown",
   "metadata": {},
   "source": [
    "Importing Air Carrier Delays data for 2013 downloaded from Bureau of Transportation Statistics: http://www.transtats.bts.gov/DL_SelectFields.asp?Table_ID=236&DB_Short_Name=On-Time"
   ]
  },
  {
   "cell_type": "code",
   "execution_count": 4,
   "metadata": {
    "collapsed": false
   },
   "outputs": [
    {
     "data": {
      "text/html": [
       "<div style=\"max-height:1000px;max-width:1500px;overflow:auto;\">\n",
       "<table border=\"1\" class=\"dataframe\">\n",
       "  <thead>\n",
       "    <tr style=\"text-align: right;\">\n",
       "      <th></th>\n",
       "      <th>YEAR</th>\n",
       "      <th>MONTH</th>\n",
       "      <th>DAY_OF_MONTH</th>\n",
       "      <th>DAY_OF_WEEK</th>\n",
       "      <th>FL_DATE</th>\n",
       "      <th>UNIQUE_CARRIER</th>\n",
       "      <th>FL_NUM</th>\n",
       "      <th>ORIGIN</th>\n",
       "      <th>DEST</th>\n",
       "      <th>DEP_TIME</th>\n",
       "      <th>DEP_DELAY_NEW</th>\n",
       "    </tr>\n",
       "  </thead>\n",
       "  <tbody>\n",
       "    <tr>\n",
       "      <th>0</th>\n",
       "      <td> 2013</td>\n",
       "      <td> 1</td>\n",
       "      <td> 18</td>\n",
       "      <td> 5</td>\n",
       "      <td>2013-01-18</td>\n",
       "      <td> DL</td>\n",
       "      <td> 1508</td>\n",
       "      <td> JFK</td>\n",
       "      <td> RSW</td>\n",
       "      <td> 1603</td>\n",
       "      <td>   0</td>\n",
       "    </tr>\n",
       "    <tr>\n",
       "      <th>1</th>\n",
       "      <td> 2013</td>\n",
       "      <td> 1</td>\n",
       "      <td> 18</td>\n",
       "      <td> 5</td>\n",
       "      <td>2013-01-18</td>\n",
       "      <td> DL</td>\n",
       "      <td> 1529</td>\n",
       "      <td> JFK</td>\n",
       "      <td> LAS</td>\n",
       "      <td> 1220</td>\n",
       "      <td> 135</td>\n",
       "    </tr>\n",
       "    <tr>\n",
       "      <th>2</th>\n",
       "      <td> 2013</td>\n",
       "      <td> 1</td>\n",
       "      <td> 18</td>\n",
       "      <td> 5</td>\n",
       "      <td>2013-01-18</td>\n",
       "      <td> DL</td>\n",
       "      <td> 1643</td>\n",
       "      <td> JFK</td>\n",
       "      <td> SEA</td>\n",
       "      <td> 1836</td>\n",
       "      <td>   1</td>\n",
       "    </tr>\n",
       "    <tr>\n",
       "      <th>3</th>\n",
       "      <td> 2013</td>\n",
       "      <td> 1</td>\n",
       "      <td> 18</td>\n",
       "      <td> 5</td>\n",
       "      <td>2013-01-18</td>\n",
       "      <td> DL</td>\n",
       "      <td> 1729</td>\n",
       "      <td> JFK</td>\n",
       "      <td> LAS</td>\n",
       "      <td> 1909</td>\n",
       "      <td>   0</td>\n",
       "    </tr>\n",
       "    <tr>\n",
       "      <th>4</th>\n",
       "      <td> 2013</td>\n",
       "      <td> 1</td>\n",
       "      <td> 18</td>\n",
       "      <td> 5</td>\n",
       "      <td>2013-01-18</td>\n",
       "      <td> DL</td>\n",
       "      <td> 1765</td>\n",
       "      <td> JFK</td>\n",
       "      <td> SFO</td>\n",
       "      <td> 1000</td>\n",
       "      <td>   0</td>\n",
       "    </tr>\n",
       "  </tbody>\n",
       "</table>\n",
       "</div>"
      ],
      "text/plain": [
       "   YEAR  MONTH  DAY_OF_MONTH  DAY_OF_WEEK    FL_DATE UNIQUE_CARRIER  FL_NUM  \\\n",
       "0  2013      1            18            5 2013-01-18             DL    1508   \n",
       "1  2013      1            18            5 2013-01-18             DL    1529   \n",
       "2  2013      1            18            5 2013-01-18             DL    1643   \n",
       "3  2013      1            18            5 2013-01-18             DL    1729   \n",
       "4  2013      1            18            5 2013-01-18             DL    1765   \n",
       "\n",
       "  ORIGIN DEST  DEP_TIME  DEP_DELAY_NEW  \n",
       "0    JFK  RSW      1603              0  \n",
       "1    JFK  LAS      1220            135  \n",
       "2    JFK  SEA      1836              1  \n",
       "3    JFK  LAS      1909              0  \n",
       "4    JFK  SFO      1000              0  "
      ]
     },
     "execution_count": 4,
     "metadata": {},
     "output_type": "execute_result"
    }
   ],
   "source": [
    "carrier_df_2013 = pd.DataFrame.from_csv('finalfile.csv', index_col=None,\n",
    "                                      parse_dates=['FL_DATE'])\n",
    "carrier_df_2013.head()\n"
   ]
  },
  {
   "cell_type": "markdown",
   "metadata": {
    "collapsed": true
   },
   "source": [
    "Importing Carrier Names CSV file to merge with the Mega Dataframe"
   ]
  },
  {
   "cell_type": "code",
   "execution_count": 5,
   "metadata": {
    "collapsed": false
   },
   "outputs": [
    {
     "data": {
      "text/html": [
       "<div style=\"max-height:1000px;max-width:1500px;overflow:auto;\">\n",
       "<table border=\"1\" class=\"dataframe\">\n",
       "  <thead>\n",
       "    <tr style=\"text-align: right;\">\n",
       "      <th></th>\n",
       "      <th>Code</th>\n",
       "      <th>Description</th>\n",
       "    </tr>\n",
       "  </thead>\n",
       "  <tbody>\n",
       "    <tr>\n",
       "      <th>0</th>\n",
       "      <td> NaN</td>\n",
       "      <td>                NaN</td>\n",
       "    </tr>\n",
       "    <tr>\n",
       "      <th>1</th>\n",
       "      <td> 02Q</td>\n",
       "      <td>      Titan Airways</td>\n",
       "    </tr>\n",
       "    <tr>\n",
       "      <th>2</th>\n",
       "      <td> NaN</td>\n",
       "      <td>                NaN</td>\n",
       "    </tr>\n",
       "    <tr>\n",
       "      <th>3</th>\n",
       "      <td> 04Q</td>\n",
       "      <td> Tradewind Aviation</td>\n",
       "    </tr>\n",
       "    <tr>\n",
       "      <th>4</th>\n",
       "      <td> NaN</td>\n",
       "      <td>                NaN</td>\n",
       "    </tr>\n",
       "  </tbody>\n",
       "</table>\n",
       "</div>"
      ],
      "text/plain": [
       "  Code         Description\n",
       "0  NaN                 NaN\n",
       "1  02Q       Titan Airways\n",
       "2  NaN                 NaN\n",
       "3  04Q  Tradewind Aviation\n",
       "4  NaN                 NaN"
      ]
     },
     "execution_count": 5,
     "metadata": {},
     "output_type": "execute_result"
    }
   ],
   "source": [
    "carrier_names=pd.DataFrame.from_csv('carriers.csv', index_col=None)\n",
    "carrier_names.head()"
   ]
  },
  {
   "cell_type": "code",
   "execution_count": 6,
   "metadata": {
    "collapsed": true
   },
   "outputs": [],
   "source": [
    "carrier_names = carrier_names[carrier_names.Code.notnull()]"
   ]
  },
  {
   "cell_type": "code",
   "execution_count": 7,
   "metadata": {
    "collapsed": false
   },
   "outputs": [],
   "source": [
    "carrier_names=carrier_names.rename(columns={'Code':'UNIQUE_CARRIER'})"
   ]
  },
  {
   "cell_type": "code",
   "execution_count": 8,
   "metadata": {
    "collapsed": false
   },
   "outputs": [],
   "source": [
    "carrier_df_2013=carrier_df_2013.merge(carrier_names,how='inner')"
   ]
  },
  {
   "cell_type": "markdown",
   "metadata": {},
   "source": [
    "Daily Weather Data imported into CSV from: http://www.wunderground.com/history/airport/"
   ]
  },
  {
   "cell_type": "code",
   "execution_count": 9,
   "metadata": {
    "collapsed": false
   },
   "outputs": [],
   "source": [
    "jfk_temp_2013 = pd.DataFrame.from_csv('JFK_Temperatures_2013.csv', index_col=None,\n",
    "                                      parse_dates=['FL_DATE'], encoding='utf-8-sig')\n"
   ]
  },
  {
   "cell_type": "code",
   "execution_count": 10,
   "metadata": {
    "collapsed": false
   },
   "outputs": [],
   "source": [
    "jfk_temp_2013.columns = ['FL_DATE', 'Max_Temp', 'Mean_Temp','Min_Temp','Max_Vis','Mean_Vis','Min_Vis','Max_Wind','Mean_Wind','Cloud_Cover','Event']"
   ]
  },
  {
   "cell_type": "code",
   "execution_count": 11,
   "metadata": {
    "collapsed": false
   },
   "outputs": [
    {
     "data": {
      "text/html": [
       "<div style=\"max-height:1000px;max-width:1500px;overflow:auto;\">\n",
       "<table border=\"1\" class=\"dataframe\">\n",
       "  <thead>\n",
       "    <tr style=\"text-align: right;\">\n",
       "      <th></th>\n",
       "      <th>FL_DATE</th>\n",
       "      <th>Max_Temp</th>\n",
       "      <th>Mean_Temp</th>\n",
       "      <th>Min_Temp</th>\n",
       "      <th>Max_Vis</th>\n",
       "      <th>Mean_Vis</th>\n",
       "      <th>Min_Vis</th>\n",
       "      <th>Max_Wind</th>\n",
       "      <th>Mean_Wind</th>\n",
       "      <th>Cloud_Cover</th>\n",
       "      <th>Event</th>\n",
       "    </tr>\n",
       "  </thead>\n",
       "  <tbody>\n",
       "    <tr>\n",
       "      <th>0</th>\n",
       "      <td>2013-01-01</td>\n",
       "      <td> 41</td>\n",
       "      <td> 34</td>\n",
       "      <td> 27</td>\n",
       "      <td> 10</td>\n",
       "      <td> 10</td>\n",
       "      <td> 10</td>\n",
       "      <td> 29</td>\n",
       "      <td> 15</td>\n",
       "      <td> 7</td>\n",
       "      <td> NaN</td>\n",
       "    </tr>\n",
       "    <tr>\n",
       "      <th>1</th>\n",
       "      <td>2013-01-02</td>\n",
       "      <td> 35</td>\n",
       "      <td> 29</td>\n",
       "      <td> 23</td>\n",
       "      <td> 10</td>\n",
       "      <td> 10</td>\n",
       "      <td> 10</td>\n",
       "      <td> 28</td>\n",
       "      <td> 15</td>\n",
       "      <td> 7</td>\n",
       "      <td> NaN</td>\n",
       "    </tr>\n",
       "    <tr>\n",
       "      <th>2</th>\n",
       "      <td>2013-01-03</td>\n",
       "      <td> 33</td>\n",
       "      <td> 29</td>\n",
       "      <td> 25</td>\n",
       "      <td> 10</td>\n",
       "      <td> 10</td>\n",
       "      <td> 10</td>\n",
       "      <td> 18</td>\n",
       "      <td> 12</td>\n",
       "      <td> 6</td>\n",
       "      <td> NaN</td>\n",
       "    </tr>\n",
       "    <tr>\n",
       "      <th>3</th>\n",
       "      <td>2013-01-04</td>\n",
       "      <td> 39</td>\n",
       "      <td> 35</td>\n",
       "      <td> 30</td>\n",
       "      <td> 10</td>\n",
       "      <td> 10</td>\n",
       "      <td> 10</td>\n",
       "      <td> 25</td>\n",
       "      <td> 16</td>\n",
       "      <td> 3</td>\n",
       "      <td> NaN</td>\n",
       "    </tr>\n",
       "    <tr>\n",
       "      <th>4</th>\n",
       "      <td>2013-01-05</td>\n",
       "      <td> 45</td>\n",
       "      <td> 39</td>\n",
       "      <td> 32</td>\n",
       "      <td> 10</td>\n",
       "      <td> 10</td>\n",
       "      <td> 10</td>\n",
       "      <td> 25</td>\n",
       "      <td> 12</td>\n",
       "      <td> 3</td>\n",
       "      <td> NaN</td>\n",
       "    </tr>\n",
       "  </tbody>\n",
       "</table>\n",
       "</div>"
      ],
      "text/plain": [
       "     FL_DATE  Max_Temp  Mean_Temp  Min_Temp  Max_Vis  Mean_Vis  Min_Vis  \\\n",
       "0 2013-01-01        41         34        27       10        10       10   \n",
       "1 2013-01-02        35         29        23       10        10       10   \n",
       "2 2013-01-03        33         29        25       10        10       10   \n",
       "3 2013-01-04        39         35        30       10        10       10   \n",
       "4 2013-01-05        45         39        32       10        10       10   \n",
       "\n",
       "   Max_Wind  Mean_Wind  Cloud_Cover Event  \n",
       "0        29         15            7   NaN  \n",
       "1        28         15            7   NaN  \n",
       "2        18         12            6   NaN  \n",
       "3        25         16            3   NaN  \n",
       "4        25         12            3   NaN  "
      ]
     },
     "execution_count": 11,
     "metadata": {},
     "output_type": "execute_result"
    }
   ],
   "source": [
    "jfk_temp_2013.head()"
   ]
  },
  {
   "cell_type": "markdown",
   "metadata": {},
   "source": [
    "Merging the temperature information with the Flight information mega dataframe"
   ]
  },
  {
   "cell_type": "code",
   "execution_count": 12,
   "metadata": {
    "collapsed": true
   },
   "outputs": [],
   "source": [
    "carrier_df_2013=carrier_df_2013.merge(jfk_temp_2013)"
   ]
  },
  {
   "cell_type": "code",
   "execution_count": 13,
   "metadata": {
    "collapsed": false
   },
   "outputs": [
    {
     "data": {
      "text/html": [
       "<div style=\"max-height:1000px;max-width:1500px;overflow:auto;\">\n",
       "<table border=\"1\" class=\"dataframe\">\n",
       "  <thead>\n",
       "    <tr style=\"text-align: right;\">\n",
       "      <th></th>\n",
       "      <th>YEAR</th>\n",
       "      <th>MONTH</th>\n",
       "      <th>DAY_OF_MONTH</th>\n",
       "      <th>DAY_OF_WEEK</th>\n",
       "      <th>FL_DATE</th>\n",
       "      <th>UNIQUE_CARRIER</th>\n",
       "      <th>FL_NUM</th>\n",
       "      <th>ORIGIN</th>\n",
       "      <th>DEST</th>\n",
       "      <th>DEP_TIME</th>\n",
       "      <th>...</th>\n",
       "      <th>Max_Temp</th>\n",
       "      <th>Mean_Temp</th>\n",
       "      <th>Min_Temp</th>\n",
       "      <th>Max_Vis</th>\n",
       "      <th>Mean_Vis</th>\n",
       "      <th>Min_Vis</th>\n",
       "      <th>Max_Wind</th>\n",
       "      <th>Mean_Wind</th>\n",
       "      <th>Cloud_Cover</th>\n",
       "      <th>Event</th>\n",
       "    </tr>\n",
       "  </thead>\n",
       "  <tbody>\n",
       "    <tr>\n",
       "      <th>0</th>\n",
       "      <td> 2013</td>\n",
       "      <td> 1</td>\n",
       "      <td> 18</td>\n",
       "      <td> 5</td>\n",
       "      <td>2013-01-18</td>\n",
       "      <td> DL</td>\n",
       "      <td> 1508</td>\n",
       "      <td> JFK</td>\n",
       "      <td> RSW</td>\n",
       "      <td> 1603</td>\n",
       "      <td>...</td>\n",
       "      <td> 36</td>\n",
       "      <td> 31</td>\n",
       "      <td> 25</td>\n",
       "      <td> 10</td>\n",
       "      <td> 10</td>\n",
       "      <td> 10</td>\n",
       "      <td> 22</td>\n",
       "      <td> 13</td>\n",
       "      <td> 4</td>\n",
       "      <td> NaN</td>\n",
       "    </tr>\n",
       "    <tr>\n",
       "      <th>1</th>\n",
       "      <td> 2013</td>\n",
       "      <td> 1</td>\n",
       "      <td> 18</td>\n",
       "      <td> 5</td>\n",
       "      <td>2013-01-18</td>\n",
       "      <td> DL</td>\n",
       "      <td> 1529</td>\n",
       "      <td> JFK</td>\n",
       "      <td> LAS</td>\n",
       "      <td> 1220</td>\n",
       "      <td>...</td>\n",
       "      <td> 36</td>\n",
       "      <td> 31</td>\n",
       "      <td> 25</td>\n",
       "      <td> 10</td>\n",
       "      <td> 10</td>\n",
       "      <td> 10</td>\n",
       "      <td> 22</td>\n",
       "      <td> 13</td>\n",
       "      <td> 4</td>\n",
       "      <td> NaN</td>\n",
       "    </tr>\n",
       "    <tr>\n",
       "      <th>2</th>\n",
       "      <td> 2013</td>\n",
       "      <td> 1</td>\n",
       "      <td> 18</td>\n",
       "      <td> 5</td>\n",
       "      <td>2013-01-18</td>\n",
       "      <td> DL</td>\n",
       "      <td> 1643</td>\n",
       "      <td> JFK</td>\n",
       "      <td> SEA</td>\n",
       "      <td> 1836</td>\n",
       "      <td>...</td>\n",
       "      <td> 36</td>\n",
       "      <td> 31</td>\n",
       "      <td> 25</td>\n",
       "      <td> 10</td>\n",
       "      <td> 10</td>\n",
       "      <td> 10</td>\n",
       "      <td> 22</td>\n",
       "      <td> 13</td>\n",
       "      <td> 4</td>\n",
       "      <td> NaN</td>\n",
       "    </tr>\n",
       "    <tr>\n",
       "      <th>3</th>\n",
       "      <td> 2013</td>\n",
       "      <td> 1</td>\n",
       "      <td> 18</td>\n",
       "      <td> 5</td>\n",
       "      <td>2013-01-18</td>\n",
       "      <td> DL</td>\n",
       "      <td> 1729</td>\n",
       "      <td> JFK</td>\n",
       "      <td> LAS</td>\n",
       "      <td> 1909</td>\n",
       "      <td>...</td>\n",
       "      <td> 36</td>\n",
       "      <td> 31</td>\n",
       "      <td> 25</td>\n",
       "      <td> 10</td>\n",
       "      <td> 10</td>\n",
       "      <td> 10</td>\n",
       "      <td> 22</td>\n",
       "      <td> 13</td>\n",
       "      <td> 4</td>\n",
       "      <td> NaN</td>\n",
       "    </tr>\n",
       "    <tr>\n",
       "      <th>4</th>\n",
       "      <td> 2013</td>\n",
       "      <td> 1</td>\n",
       "      <td> 18</td>\n",
       "      <td> 5</td>\n",
       "      <td>2013-01-18</td>\n",
       "      <td> DL</td>\n",
       "      <td> 1765</td>\n",
       "      <td> JFK</td>\n",
       "      <td> SFO</td>\n",
       "      <td> 1000</td>\n",
       "      <td>...</td>\n",
       "      <td> 36</td>\n",
       "      <td> 31</td>\n",
       "      <td> 25</td>\n",
       "      <td> 10</td>\n",
       "      <td> 10</td>\n",
       "      <td> 10</td>\n",
       "      <td> 22</td>\n",
       "      <td> 13</td>\n",
       "      <td> 4</td>\n",
       "      <td> NaN</td>\n",
       "    </tr>\n",
       "  </tbody>\n",
       "</table>\n",
       "<p>5 rows × 22 columns</p>\n",
       "</div>"
      ],
      "text/plain": [
       "   YEAR  MONTH  DAY_OF_MONTH  DAY_OF_WEEK    FL_DATE UNIQUE_CARRIER  FL_NUM  \\\n",
       "0  2013      1            18            5 2013-01-18             DL    1508   \n",
       "1  2013      1            18            5 2013-01-18             DL    1529   \n",
       "2  2013      1            18            5 2013-01-18             DL    1643   \n",
       "3  2013      1            18            5 2013-01-18             DL    1729   \n",
       "4  2013      1            18            5 2013-01-18             DL    1765   \n",
       "\n",
       "  ORIGIN DEST  DEP_TIME  ...    Max_Temp Mean_Temp  Min_Temp  Max_Vis  \\\n",
       "0    JFK  RSW      1603  ...          36        31        25       10   \n",
       "1    JFK  LAS      1220  ...          36        31        25       10   \n",
       "2    JFK  SEA      1836  ...          36        31        25       10   \n",
       "3    JFK  LAS      1909  ...          36        31        25       10   \n",
       "4    JFK  SFO      1000  ...          36        31        25       10   \n",
       "\n",
       "   Mean_Vis  Min_Vis  Max_Wind  Mean_Wind  Cloud_Cover  Event  \n",
       "0        10       10        22         13            4    NaN  \n",
       "1        10       10        22         13            4    NaN  \n",
       "2        10       10        22         13            4    NaN  \n",
       "3        10       10        22         13            4    NaN  \n",
       "4        10       10        22         13            4    NaN  \n",
       "\n",
       "[5 rows x 22 columns]"
      ]
     },
     "execution_count": 13,
     "metadata": {},
     "output_type": "execute_result"
    }
   ],
   "source": [
    "carrier_df_2013.head()"
   ]
  },
  {
   "cell_type": "markdown",
   "metadata": {},
   "source": [
    "PLOTTING DEPARTURE DELAY TRENDS AT JFK FOR 2013:"
   ]
  },
  {
   "cell_type": "code",
   "execution_count": 14,
   "metadata": {
    "collapsed": false
   },
   "outputs": [],
   "source": [
    "jan_df=carrier_df_2013[carrier_df_2013.MONTH==1]\n",
    "feb_df=carrier_df_2013[carrier_df_2013.MONTH==2]\n",
    "mar_df=carrier_df_2013[carrier_df_2013.MONTH==3]\n",
    "apr_df=carrier_df_2013[carrier_df_2013.MONTH==4]\n",
    "may_df=carrier_df_2013[carrier_df_2013.MONTH==5]\n",
    "june_df=carrier_df_2013[carrier_df_2013.MONTH==6]\n",
    "july_df=carrier_df_2013[carrier_df_2013.MONTH==7]\n",
    "aug_df=carrier_df_2013[carrier_df_2013.MONTH==8]\n",
    "sep_df=carrier_df_2013[carrier_df_2013.MONTH==9]\n",
    "oct_df=carrier_df_2013[carrier_df_2013.MONTH==10]\n",
    "nov_df=carrier_df_2013[carrier_df_2013.MONTH==11]\n",
    "dec_df=carrier_df_2013[carrier_df_2013.MONTH==12]\n"
   ]
  },
  {
   "cell_type": "code",
   "execution_count": 15,
   "metadata": {
    "collapsed": false
   },
   "outputs": [],
   "source": [
    "jan_delay_mean=np.round(jan_df['DEP_DELAY_NEW'].mean(),2)\n",
    "feb_delay_mean=np.round(feb_df['DEP_DELAY_NEW'].mean(),2)\n",
    "mar_delay_mean=np.round(mar_df['DEP_DELAY_NEW'].mean(),2)\n",
    "apr_delay_mean=np.round(apr_df['DEP_DELAY_NEW'].mean(),2)\n",
    "may_delay_mean=np.round(may_df['DEP_DELAY_NEW'].mean(),2)\n",
    "june_delay_mean=np.round(june_df['DEP_DELAY_NEW'].mean(),2)\n",
    "july_delay_mean=np.round(july_df['DEP_DELAY_NEW'].mean(),2)\n",
    "aug_delay_mean=np.round(aug_df['DEP_DELAY_NEW'].mean(),2)\n",
    "sep_delay_mean=np.round(sep_df['DEP_DELAY_NEW'].mean(),2)\n",
    "oct_delay_mean=np.round(oct_df['DEP_DELAY_NEW'].mean(),2)\n",
    "nov_delay_mean=np.round(nov_df['DEP_DELAY_NEW'].mean(),2)\n",
    "dec_delay_mean=np.round(dec_df['DEP_DELAY_NEW'].mean(),2)"
   ]
  },
  {
   "cell_type": "code",
   "execution_count": 16,
   "metadata": {
    "collapsed": false
   },
   "outputs": [
    {
     "data": {
      "text/html": [
       "<iframe id=\"igraph\" scrolling=\"no\" style=\"border:none;\"seamless=\"seamless\" src=\"https://plot.ly/~mall2694/176.embed\" height=\"600px\" width=\"600px\"></iframe>"
      ],
      "text/plain": [
       "<plotly.tools.PlotlyDisplay object>"
      ]
     },
     "execution_count": 16,
     "metadata": {},
     "output_type": "execute_result"
    }
   ],
   "source": [
    "#Code to plot average departure delay per month at JFK in 2013\n",
    "\n",
    "trace0 = go.Scatter(\n",
    "    x=['Jan', 'Feb', 'Mar', 'Apr','May','June','July','August','Sept','Oct','Nov','Dec'],\n",
    "    y=[jan_delay_mean, feb_delay_mean, mar_delay_mean, apr_delay_mean,may_delay_mean,june_delay_mean,july_delay_mean,aug_delay_mean,sep_delay_mean,oct_delay_mean,nov_delay_mean,dec_delay_mean],\n",
    "    text=['Jan', 'Feb', 'Mar', 'Apr','May','June','July','August','Sept','Oct','Nov','Dec'],\n",
    "    textposition='bottom',\n",
    "    mode='markers',\n",
    "    #text=['1', '2', '3','4','5','6','7','8','9','10','11','12'],\n",
    "    marker=dict(\n",
    "        size=[1100, 1400, 1200, 1400,1400, 1600, 1800, 1400,900, 800, 800, 1500],\n",
    "        color=[145,160, 150, 155, 160, 175,180,160,140,135,135,170],\n",
    "        sizemode='area',\n",
    "    )\n",
    ")\n",
    " \n",
    "data0 = [trace0]\n",
    "layout0 = go.Layout(\n",
    "    title = 'Average Monthly Departure Delays from JFK Airport, NYC for 2013',\n",
    "    showlegend=False,\n",
    "    height=600,\n",
    "    width=600,\n",
    "   yaxis=dict(\n",
    "        title='Departure Delay in Minutes',\n",
    "        gridcolor='rgb(255, 255, 255)',\n",
    "        zerolinewidth=1,\n",
    "        ticklen=5,\n",
    "        gridwidth=2,\n",
    "    ),\n",
    "    paper_bgcolor='rgb(243, 243, 243)',\n",
    "    plot_bgcolor='rgb(243, 243, 243)',\n",
    ")\n",
    "fig0 = go.Figure(data=data0, layout=layout0)\n",
    "py.iplot(fig0)"
   ]
  },
  {
   "cell_type": "code",
   "execution_count": 17,
   "metadata": {
    "collapsed": false
   },
   "outputs": [
    {
     "data": {
      "text/html": [
       "<iframe id=\"igraph\" scrolling=\"no\" style=\"border:none;\"seamless=\"seamless\" src=\"https://plot.ly/~mall2694/178.embed\" height=\"525px\" width=\"100%\"></iframe>"
      ],
      "text/plain": [
       "<plotly.tools.PlotlyDisplay object>"
      ]
     },
     "execution_count": 17,
     "metadata": {},
     "output_type": "execute_result"
    }
   ],
   "source": [
    "#code to plot max departure delay per carrier at JFK in 2013\n",
    "\n",
    "freq_users = carrier_df_2013.groupby(['MONTH','Description'])['DEP_DELAY_NEW'].max()\n",
    "freq_users=freq_users.unstack('MONTH')\n",
    "freq_users = freq_users.reset_index()\n",
    "freq_users.columns = ['Carrier', 'Jan', 'Feb','Mar','Apr','May','June','July','Aug','Sep','Oct','Nov','Dec']\n",
    "\n",
    "trace0 = go.Bar(\n",
    "    x=freq_users['Carrier'],\n",
    "    y=freq_users['Jan'],\n",
    "    name='Jan',\n",
    "        )\n",
    "\n",
    "trace1 = go.Bar(\n",
    "    x=freq_users['Carrier'],\n",
    "    y=freq_users['Feb'],\n",
    "    name='Feb',\n",
    "        )\n",
    "\n",
    "trace2 = go.Bar(\n",
    "    x=freq_users['Carrier'],\n",
    "    y=freq_users['Mar'],\n",
    "    name='Mar',\n",
    "        )\n",
    "\n",
    "trace3 = go.Bar(\n",
    "    x=freq_users['Carrier'],\n",
    "    y=freq_users['Apr'],\n",
    "    name='Apr',\n",
    "        )\n",
    "\n",
    "trace4 = go.Bar(\n",
    "    x=freq_users['Carrier'],\n",
    "    y=freq_users['May'],\n",
    "    name='May',\n",
    "        )\n",
    "\n",
    "trace5 = go.Bar(\n",
    "    x=freq_users['Carrier'],\n",
    "    y=freq_users['June'],\n",
    "    name='June',\n",
    "        )\n",
    "\n",
    "trace6 = go.Bar(\n",
    "    x=freq_users['Carrier'],\n",
    "    y=freq_users['July'],\n",
    "    name='July',\n",
    "        )\n",
    "\n",
    "trace7 = go.Bar(\n",
    "    x=freq_users['Carrier'],\n",
    "    y=freq_users['Aug'],\n",
    "    name='Aug',\n",
    "        )\n",
    "\n",
    "trace8 = go.Bar(\n",
    "    x=freq_users['Carrier'],\n",
    "    y=freq_users['Sep'],\n",
    "    name='Sep',\n",
    "        )\n",
    "\n",
    "trace9 = go.Bar(\n",
    "    x=freq_users['Carrier'],\n",
    "    y=freq_users['Oct'],\n",
    "    name='Oct',\n",
    "        )\n",
    "trace10 = go.Bar(\n",
    "    x=freq_users['Carrier'],\n",
    "    y=freq_users['Nov'],\n",
    "    name='Nov',\n",
    "        )\n",
    "trace11 = go.Bar(\n",
    "    x=freq_users['Carrier'],\n",
    "    y=freq_users['Dec'],\n",
    "    name='Dec',\n",
    "        )\n",
    "\n",
    "\n",
    "\n",
    "data1 = [trace0, trace1,trace2,trace3,trace4,trace5,trace6,trace7,trace8,trace9,trace10,trace11]\n",
    "layout1 = go.Layout(\n",
    "    title='Max Departure Delay Per Carrier, JFK Airport (2013)',\n",
    "    margin=dict(b=150),\n",
    "    xaxis=dict(\n",
    "        # set x-axis' labels direction at 45 degree angle\n",
    "        tickangle=-45,\n",
    "    ),\n",
    "     yaxis=dict(\n",
    "        title='Departure Delay in minutes'),\n",
    "    barmode='stack',\n",
    ")\n",
    "\n",
    "fig1 = go.Figure(data=data1, layout=layout1)\n",
    "py.iplot(fig1)"
   ]
  },
  {
   "cell_type": "code",
   "execution_count": 18,
   "metadata": {
    "collapsed": false
   },
   "outputs": [
    {
     "data": {
      "text/html": [
       "<iframe id=\"igraph\" scrolling=\"no\" style=\"border:none;\"seamless=\"seamless\" src=\"https://plot.ly/~mall2694/180.embed\" height=\"525px\" width=\"100%\"></iframe>"
      ],
      "text/plain": [
       "<plotly.tools.PlotlyDisplay object>"
      ]
     },
     "execution_count": 18,
     "metadata": {},
     "output_type": "execute_result"
    }
   ],
   "source": [
    "#code to plot average departure delay per carrier at JFK in 2013\n",
    "\n",
    "freq_users_1 = carrier_df_2013.groupby(['MONTH','Description'])['DEP_DELAY_NEW'].mean()\n",
    "freq_users_1=freq_users_1.unstack('MONTH')\n",
    "freq_users_1 = freq_users_1.reset_index()\n",
    "freq_users_1.columns = ['Carrier', 'Jan', 'Feb','Mar','Apr','May','June','July','Aug','Sep','Oct','Nov','Dec']\n",
    "\n",
    "trace0_1 = go.Bar(\n",
    "    x=freq_users_1['Carrier'],\n",
    "    y=freq_users_1['Jan'],\n",
    "    name='Jan',\n",
    "        )\n",
    "\n",
    "trace1_1 = go.Bar(\n",
    "    x=freq_users_1['Carrier'],\n",
    "    y=freq_users_1['Feb'],\n",
    "    name='Feb',\n",
    "        )\n",
    "\n",
    "trace2_1 = go.Bar(\n",
    "    x=freq_users_1['Carrier'],\n",
    "    y=freq_users_1['Mar'],\n",
    "    name='Mar',\n",
    "        )\n",
    "\n",
    "trace3_1 = go.Bar(\n",
    "    x=freq_users_1['Carrier'],\n",
    "    y=freq_users_1['Apr'],\n",
    "    name='Apr',\n",
    "        )\n",
    "\n",
    "trace4_1 = go.Bar(\n",
    "    x=freq_users_1['Carrier'],\n",
    "    y=freq_users_1['May'],\n",
    "    name='May',\n",
    "        )\n",
    "\n",
    "trace5_1 = go.Bar(\n",
    "    x=freq_users_1['Carrier'],\n",
    "    y=freq_users_1['June'],\n",
    "    name='June',\n",
    "        )\n",
    "\n",
    "trace6_1 = go.Bar(\n",
    "    x=freq_users_1['Carrier'],\n",
    "    y=freq_users_1['July'],\n",
    "    name='July',\n",
    "        )\n",
    "\n",
    "trace7_1 = go.Bar(\n",
    "    x=freq_users_1['Carrier'],\n",
    "    y=freq_users_1['Aug'],\n",
    "    name='Aug',\n",
    "        )\n",
    "\n",
    "trace8_1 = go.Bar(\n",
    "    x=freq_users_1['Carrier'],\n",
    "    y=freq_users_1['Sep'],\n",
    "    name='Sep',\n",
    "        )\n",
    "\n",
    "trace9_1 = go.Bar(\n",
    "    x=freq_users_1['Carrier'],\n",
    "    y=freq_users_1['Oct'],\n",
    "    name='Oct',\n",
    "        )\n",
    "trace10_1 = go.Bar(\n",
    "    x=freq_users_1['Carrier'],\n",
    "    y=freq_users_1['Nov'],\n",
    "    name='Nov',\n",
    "        )\n",
    "trace11_1 = go.Bar(\n",
    "    x=freq_users_1['Carrier'],\n",
    "    y=freq_users_1['Dec'],\n",
    "    name='Dec',\n",
    "        )\n",
    "\n",
    "\n",
    "\n",
    "data1_1 = [trace0_1, trace1_1,trace2_1,trace3_1,trace4_1,trace5_1,trace6_1,trace7_1,trace8_1,trace9_1,trace10_1,trace11_1]\n",
    "layout1_1 = go.Layout(\n",
    "    title='Mean Departure Delay Per Carrier, JFK (2013)',\n",
    "    margin=dict(b=150),\n",
    "    xaxis=dict(\n",
    "        # set x-axis' labels direction at 45 degree angle\n",
    "        tickangle=-45,\n",
    "    ),\n",
    "     yaxis=dict(\n",
    "        title='Departure Delay in minutes'),\n",
    "    barmode='stack',\n",
    ")\n",
    "\n",
    "fig1_1 = go.Figure(data=data1_1, layout=layout1_1)\n",
    "py.iplot(fig1_1)"
   ]
  },
  {
   "cell_type": "markdown",
   "metadata": {},
   "source": [
    "Exploring the relationship between weather and departure delays for Months Jan, Apr,July,November"
   ]
  },
  {
   "cell_type": "code",
   "execution_count": 19,
   "metadata": {
    "collapsed": false
   },
   "outputs": [],
   "source": [
    "jan_df=jan_df.sort(['DAY_OF_MONTH'],ascending=True)\n",
    "apr_df=apr_df.sort(['DAY_OF_MONTH'],ascending=True)\n",
    "july_df=july_df.sort(['DAY_OF_MONTH'],ascending=True)\n",
    "nov_df=nov_df.sort(['DAY_OF_MONTH'],ascending=True)"
   ]
  },
  {
   "cell_type": "code",
   "execution_count": 20,
   "metadata": {
    "collapsed": false
   },
   "outputs": [],
   "source": [
    "temp_jan=jan_df.groupby(['FL_DATE','Min_Temp'])['DEP_DELAY_NEW'].mean()\n",
    "temp_jan = temp_jan.reset_index()\n",
    "temp_jan.columns = ['Date','Min_Temp','Dep_Delay_Max']\n"
   ]
  },
  {
   "cell_type": "markdown",
   "metadata": {},
   "source": [
    "PLOTTING TEMPERATURE AND DEPARTURE DELAY TRENDS"
   ]
  },
  {
   "cell_type": "code",
   "execution_count": 21,
   "metadata": {
    "collapsed": false
   },
   "outputs": [],
   "source": [
    "trace0 = go.Scatter(\n",
    "    x=temp_jan['Date'],\n",
    "    y=temp_jan['Min_Temp'],\n",
    "    name='Min Daily Temperature',\n",
    "        )\n",
    "\n",
    "trace1 = go.Scatter(\n",
    "    x=temp_jan['Date'],\n",
    "    y=temp_jan['Dep_Delay_Max'],\n",
    "    yaxis='y2',\n",
    "    name='Avg Daily Departure Delay',\n",
    "        )\n",
    "\n",
    "data2 = [trace0, trace1]\n",
    "\n",
    "layout2 = go.Layout(\n",
    "    title='Min Temperature V. Departure Delays @ JFK Airport,NYC - Jan2013',\n",
    "    yaxis=dict(\n",
    "        title='Min Temp (F)'\n",
    "    ),\n",
    "    yaxis2=dict(\n",
    "        title='Avg Departure Delay (minutes)',\n",
    "        titlefont=dict(\n",
    "            color='rgb(148, 103, 189)'\n",
    "        ),\n",
    "        tickfont=dict(\n",
    "            color='rgb(148, 103, 189)'\n",
    "        ),\n",
    "        overlaying='y',\n",
    "        side='right'\n",
    "    )\n",
    ")\n"
   ]
  },
  {
   "cell_type": "code",
   "execution_count": 22,
   "metadata": {
    "collapsed": false
   },
   "outputs": [
    {
     "data": {
      "text/html": [
       "<iframe id=\"igraph\" scrolling=\"no\" style=\"border:none;\"seamless=\"seamless\" src=\"https://plot.ly/~mall2694/182.embed\" height=\"525px\" width=\"100%\"></iframe>"
      ],
      "text/plain": [
       "<plotly.tools.PlotlyDisplay object>"
      ]
     },
     "execution_count": 22,
     "metadata": {},
     "output_type": "execute_result"
    }
   ],
   "source": [
    "fig = go.Figure(data=data2, layout=layout2)\n",
    "py.iplot(fig)"
   ]
  },
  {
   "cell_type": "markdown",
   "metadata": {},
   "source": [
    "PLOTTING VISIBILITY AND DELAY TRENDS FOR JANUARY"
   ]
  },
  {
   "cell_type": "code",
   "execution_count": 23,
   "metadata": {
    "collapsed": false
   },
   "outputs": [
    {
     "data": {
      "text/html": [
       "<div style=\"max-height:1000px;max-width:1500px;overflow:auto;\">\n",
       "<table border=\"1\" class=\"dataframe\">\n",
       "  <thead>\n",
       "    <tr style=\"text-align: right;\">\n",
       "      <th></th>\n",
       "      <th>FL_DATE</th>\n",
       "      <th>Min_Vis</th>\n",
       "      <th>DEP_DELAY_NEW</th>\n",
       "    </tr>\n",
       "  </thead>\n",
       "  <tbody>\n",
       "    <tr>\n",
       "      <th>0</th>\n",
       "      <td>2013-01-01</td>\n",
       "      <td> 10</td>\n",
       "      <td> 14.493243</td>\n",
       "    </tr>\n",
       "    <tr>\n",
       "      <th>1</th>\n",
       "      <td>2013-01-02</td>\n",
       "      <td> 10</td>\n",
       "      <td> 10.403125</td>\n",
       "    </tr>\n",
       "    <tr>\n",
       "      <th>2</th>\n",
       "      <td>2013-01-03</td>\n",
       "      <td> 10</td>\n",
       "      <td> 15.927673</td>\n",
       "    </tr>\n",
       "    <tr>\n",
       "      <th>3</th>\n",
       "      <td>2013-01-04</td>\n",
       "      <td> 10</td>\n",
       "      <td> 12.539432</td>\n",
       "    </tr>\n",
       "    <tr>\n",
       "      <th>4</th>\n",
       "      <td>2013-01-05</td>\n",
       "      <td> 10</td>\n",
       "      <td>  9.936667</td>\n",
       "    </tr>\n",
       "  </tbody>\n",
       "</table>\n",
       "</div>"
      ],
      "text/plain": [
       "     FL_DATE  Min_Vis  DEP_DELAY_NEW\n",
       "0 2013-01-01       10      14.493243\n",
       "1 2013-01-02       10      10.403125\n",
       "2 2013-01-03       10      15.927673\n",
       "3 2013-01-04       10      12.539432\n",
       "4 2013-01-05       10       9.936667"
      ]
     },
     "execution_count": 23,
     "metadata": {},
     "output_type": "execute_result"
    }
   ],
   "source": [
    "vis_jan=jan_df.groupby(['FL_DATE','Min_Vis'])['DEP_DELAY_NEW'].mean()\n",
    "vis_jan=vis_jan.reset_index()\n",
    "vis_jan.head()"
   ]
  },
  {
   "cell_type": "code",
   "execution_count": 24,
   "metadata": {
    "collapsed": true
   },
   "outputs": [],
   "source": [
    "vis_jan.columns = ['Date','Min_Vis','Avg_Delay']"
   ]
  },
  {
   "cell_type": "code",
   "execution_count": 25,
   "metadata": {
    "collapsed": false
   },
   "outputs": [
    {
     "data": {
      "text/html": [
       "<iframe id=\"igraph\" scrolling=\"no\" style=\"border:none;\"seamless=\"seamless\" src=\"https://plot.ly/~mall2694/184.embed\" height=\"525px\" width=\"100%\"></iframe>"
      ],
      "text/plain": [
       "<plotly.tools.PlotlyDisplay object>"
      ]
     },
     "execution_count": 25,
     "metadata": {},
     "output_type": "execute_result"
    }
   ],
   "source": [
    "trace0 = go.Scatter(\n",
    "    x=vis_jan['Date'],\n",
    "    y=vis_jan['Min_Vis'],\n",
    "    name='Min Visibility',\n",
    "        )\n",
    "\n",
    "trace1 = go.Scatter(\n",
    "    x=vis_jan['Date'],\n",
    "    y=vis_jan['Avg_Delay'],\n",
    "    yaxis='y2',\n",
    "    name='Departure Delay',\n",
    "    )\n",
    "\n",
    "data3 = [trace0, trace1]\n",
    "\n",
    "layout3 = go.Layout(\n",
    "    title='Min Visibility V. Departure Delays @ JFK Airport, NYC - Jan2013',\n",
    "    yaxis=dict(\n",
    "        title='Min Visibility (ft)'\n",
    "    ),\n",
    "    yaxis2=dict(\n",
    "        title='Avg Departure Delay (minutes)',\n",
    "        titlefont=dict(\n",
    "            color='rgb(148, 103, 189)'\n",
    "        ),\n",
    "        tickfont=dict(\n",
    "            color='rgb(148, 103, 189)'\n",
    "        ),\n",
    "        overlaying='y',\n",
    "        side='right'\n",
    "    )\n",
    ")\n",
    "\n",
    "fig2 = go.Figure(data=data3, layout=layout3)\n",
    "py.iplot(fig2)"
   ]
  },
  {
   "cell_type": "markdown",
   "metadata": {},
   "source": [
    "Scatter-plot of Visibility/Min Temp data for January at JFK"
   ]
  },
  {
   "cell_type": "code",
   "execution_count": 26,
   "metadata": {
    "collapsed": true
   },
   "outputs": [],
   "source": [
    "jan_df=jan_df.sort(['FL_DATE'],ascending=True)"
   ]
  },
  {
   "cell_type": "code",
   "execution_count": 27,
   "metadata": {
    "collapsed": false
   },
   "outputs": [
    {
     "data": {
      "text/html": [
       "<div style=\"max-height:1000px;max-width:1500px;overflow:auto;\">\n",
       "<table border=\"1\" class=\"dataframe\">\n",
       "  <thead>\n",
       "    <tr style=\"text-align: right;\">\n",
       "      <th></th>\n",
       "      <th>Date</th>\n",
       "      <th>Min_Vis</th>\n",
       "    </tr>\n",
       "  </thead>\n",
       "  <tbody>\n",
       "    <tr>\n",
       "      <th>0</th>\n",
       "      <td>2013-01-01</td>\n",
       "      <td> 10</td>\n",
       "    </tr>\n",
       "    <tr>\n",
       "      <th>1</th>\n",
       "      <td>2013-01-02</td>\n",
       "      <td> 10</td>\n",
       "    </tr>\n",
       "    <tr>\n",
       "      <th>2</th>\n",
       "      <td>2013-01-03</td>\n",
       "      <td> 10</td>\n",
       "    </tr>\n",
       "    <tr>\n",
       "      <th>3</th>\n",
       "      <td>2013-01-04</td>\n",
       "      <td> 10</td>\n",
       "    </tr>\n",
       "    <tr>\n",
       "      <th>4</th>\n",
       "      <td>2013-01-05</td>\n",
       "      <td> 10</td>\n",
       "    </tr>\n",
       "  </tbody>\n",
       "</table>\n",
       "</div>"
      ],
      "text/plain": [
       "        Date  Min_Vis\n",
       "0 2013-01-01       10\n",
       "1 2013-01-02       10\n",
       "2 2013-01-03       10\n",
       "3 2013-01-04       10\n",
       "4 2013-01-05       10"
      ]
     },
     "execution_count": 27,
     "metadata": {},
     "output_type": "execute_result"
    }
   ],
   "source": [
    "vis1_jan=jan_df.groupby(['FL_DATE'])['Min_Vis'].mean()\n",
    "vis1_jan=vis1_jan.reset_index()\n",
    "vis1_jan.columns=['Date','Min_Vis']\n",
    "vis1_jan.head()"
   ]
  },
  {
   "cell_type": "code",
   "execution_count": 28,
   "metadata": {
    "collapsed": false
   },
   "outputs": [],
   "source": [
    "min_t=jan_df.groupby(['FL_DATE'])['Min_Temp'].mean()\n",
    "min_t=min_t.reset_index()\n",
    "min_t.columns=['Date','Min_Temp']"
   ]
  },
  {
   "cell_type": "code",
   "execution_count": 29,
   "metadata": {
    "collapsed": false
   },
   "outputs": [
    {
     "data": {
      "text/html": [
       "<iframe id=\"igraph\" scrolling=\"no\" style=\"border:none;\"seamless=\"seamless\" src=\"https://plot.ly/~mall2694/186.embed\" height=\"525px\" width=\"100%\"></iframe>"
      ],
      "text/plain": [
       "<plotly.tools.PlotlyDisplay object>"
      ]
     },
     "execution_count": 29,
     "metadata": {},
     "output_type": "execute_result"
    }
   ],
   "source": [
    "trace0 = go.Scatter(\n",
    "    x=vis1_jan['Date'],\n",
    "    y=vis1_jan['Min_Vis'],\n",
    "    name='Min Visibility',\n",
    "    mode = 'markers',\n",
    "    marker = dict(\n",
    "        size = 12,\n",
    "        color = 'rgba(152, 0, 0, .8)',\n",
    "        line = dict(\n",
    "            width = 0.5,\n",
    "            color = 'rgb(0, 0, 0)'\n",
    "        )\n",
    "    )\n",
    "        )\n",
    "\n",
    "trace1 = go.Scatter(\n",
    "    x=min_t['Date'],\n",
    "    y=min_t['Min_Temp'],\n",
    "    yaxis='y2',\n",
    "    name='Min Temp (F)',\n",
    "    mode = 'markers',\n",
    "    marker = dict(\n",
    "        size = 12,\n",
    "        color = 'rgba(255, 182, 193, .9)',\n",
    "        line = dict(\n",
    "            width = 0.5,\n",
    "        )\n",
    "    )\n",
    "    )\n",
    "\n",
    "data_4 = [trace0, trace1]\n",
    "\n",
    "layout4 = go.Layout(\n",
    "    title='Min Visibility V Min Temperature @ JFK Airport,NYC - Jan2013',\n",
    "    yaxis=dict(\n",
    "        title='Min Visibility (ft)'\n",
    "    ),\n",
    "    yaxis2=dict(\n",
    "        title='Min Temp (F)',\n",
    "        titlefont=dict(\n",
    "            color='rgb(148, 103, 189)'\n",
    "        ),\n",
    "        tickfont=dict(\n",
    "            color='rgb(148, 103, 189)'\n",
    "        ),\n",
    "        overlaying='y',\n",
    "        side='right'\n",
    "    )\n",
    ")\n",
    "\n",
    "fig4 = go.Figure(data=data_4, layout=layout4)\n",
    "py.iplot(fig4)"
   ]
  },
  {
   "cell_type": "markdown",
   "metadata": {},
   "source": [
    "PLOTTING AVERAGE DEPARTURE DELAYS DURING EVENTS[RAIN,SNOW,FOG,ETC]:"
   ]
  },
  {
   "cell_type": "code",
   "execution_count": 30,
   "metadata": {
    "collapsed": false
   },
   "outputs": [],
   "source": [
    "events_jan=jan_df.groupby(['Event'])['DEP_DELAY_NEW'].mean()\n",
    "events_jan = events_jan.reset_index()\n",
    "events_jan.columns = ['Event','Delay']\n",
    "events_jan['Delay']=np.round(events_jan['Delay'], 2)"
   ]
  },
  {
   "cell_type": "code",
   "execution_count": 31,
   "metadata": {
    "collapsed": false
   },
   "outputs": [
    {
     "data": {
      "text/html": [
       "<iframe id=\"igraph\" scrolling=\"no\" style=\"border:none;\"seamless=\"seamless\" src=\"https://plot.ly/~mall2694/188.embed\" height=\"525px\" width=\"100%\"></iframe>"
      ],
      "text/plain": [
       "<plotly.tools.PlotlyDisplay object>"
      ]
     },
     "execution_count": 31,
     "metadata": {},
     "output_type": "execute_result"
    }
   ],
   "source": [
    "trace1 = go.Bar(\n",
    "    y=events_jan['Event'][0],\n",
    "    x=events_jan['Delay'][0],\n",
    "    name='Fog-Rain',\n",
    "    orientation = 'h',\n",
    "    marker = dict(\n",
    "        color = 'rgba(55, 128, 191, 0.6)',\n",
    "    )\n",
    ")\n",
    "\n",
    "trace2 = go.Bar(\n",
    "    y=events_jan['Event'][1],\n",
    "    x=events_jan['Delay'][1],\n",
    "    name='Rain',\n",
    "    orientation = 'h',\n",
    "    marker = dict(\n",
    "        color = 'rgba(255, 182, 193, 0.6)',\n",
    "    )\n",
    ")\n",
    "\n",
    "trace3 = go.Bar(\n",
    "    y=events_jan['Event'][2],\n",
    "    x=events_jan['Delay'][2],\n",
    "    name='Rain-Snow',\n",
    "    orientation = 'h',\n",
    "    marker = dict(\n",
    "        color = 'rgba(255, 153, 51, 0.6)',\n",
    "    )\n",
    ")\n",
    "\n",
    "trace4 = go.Bar(\n",
    "    y=events_jan['Event'][3],\n",
    "    x=events_jan['Delay'][3],\n",
    "    name='Snow',\n",
    "    orientation = 'h',\n",
    "    marker = dict(\n",
    "        color = 'rgba(20, 20, 20, 0.6)',\n",
    "    )\n",
    ")\n",
    "\n",
    "data5 = [trace1,trace2,trace3,trace4]\n",
    "layout5 = go.Layout(\n",
    "    barmode='stack',\n",
    "    title='Departure Delays During Events @ JFK, Jan 2013',\n",
    "    yaxis=dict(\n",
    "        title='Event Category',\n",
    "        tickangle=-45\n",
    "    ),\n",
    "     xaxis=dict(\n",
    "        title='Departure Delay in Minutes'\n",
    "    )\n",
    ")\n",
    "fig5 = go.Figure(data=data5, layout=layout5)\n",
    "py.iplot(fig5)"
   ]
  },
  {
   "cell_type": "code",
   "execution_count": 32,
   "metadata": {
    "collapsed": false
   },
   "outputs": [
    {
     "data": {
      "text/html": [
       "<iframe id=\"igraph\" scrolling=\"no\" style=\"border:none;\"seamless=\"seamless\" src=\"https://plot.ly/~mall2694/190.embed\" height=\"525px\" width=\"100%\"></iframe>"
      ],
      "text/plain": [
       "<plotly.tools.PlotlyDisplay object>"
      ]
     },
     "execution_count": 32,
     "metadata": {},
     "output_type": "execute_result"
    }
   ],
   "source": [
    "events_apr=apr_df.groupby(['Event'])['DEP_DELAY_NEW'].mean()\n",
    "events_apr = events_apr.reset_index()\n",
    "events_apr.columns = ['Event','Delay']\n",
    "events_apr['Delay']=np.round(events_apr['Delay'], 2)\n",
    "\n",
    "trace1 = go.Bar(\n",
    "    y=events_apr['Event'][0],\n",
    "    x=events_apr['Delay'][0],\n",
    "    name='Fog-Rain',\n",
    "    orientation = 'h',\n",
    "    marker = dict(\n",
    "        color = 'rgba(138, 43, 220, 0.6)',\n",
    "    )\n",
    ")\n",
    "\n",
    "trace2 = go.Bar(\n",
    "    y=events_apr['Event'][1],\n",
    "    x=events_apr['Delay'][1],\n",
    "    name='Rain',\n",
    "    orientation = 'h',\n",
    "    marker = dict(\n",
    "        color = 'rgba(255, 131, 250, 0.6)',\n",
    "    )\n",
    ")\n",
    "\n",
    "trace3 = go.Bar(\n",
    "    y=events_apr['Event'][2],\n",
    "    x=events_apr['Delay'][2],\n",
    "    name='Rain-Thunderstorm',\n",
    "    orientation = 'h',\n",
    "    marker = dict(\n",
    "        color = 'rgba(220, 20, 60, 0.6)',\n",
    "    )\n",
    ")\n",
    "\n",
    "\n",
    "data6 = [trace1,trace2,trace3]\n",
    "layout6 = go.Layout(\n",
    "    barmode='stack',\n",
    "    title='Departure Delays During Events @ JFK, April 2013',\n",
    "    yaxis=dict(\n",
    "        title='Event Category',\n",
    "        tickangle=45\n",
    "    ),\n",
    "     xaxis=dict(\n",
    "        title='Departure Delay in Minutes'\n",
    "    )\n",
    ")\n",
    "fig6 = go.Figure(data=data6, layout=layout6)\n",
    "py.iplot(fig6)\n"
   ]
  },
  {
   "cell_type": "code",
   "execution_count": 33,
   "metadata": {
    "collapsed": false
   },
   "outputs": [
    {
     "data": {
      "text/html": [
       "<iframe id=\"igraph\" scrolling=\"no\" style=\"border:none;\"seamless=\"seamless\" src=\"https://plot.ly/~mall2694/192.embed\" height=\"525px\" width=\"100%\"></iframe>"
      ],
      "text/plain": [
       "<plotly.tools.PlotlyDisplay object>"
      ]
     },
     "execution_count": 33,
     "metadata": {},
     "output_type": "execute_result"
    }
   ],
   "source": [
    "events_july=july_df.groupby(['Event'])['DEP_DELAY_NEW'].mean()\n",
    "events_july = events_july.reset_index()\n",
    "events_july.columns = ['Event','Delay']\n",
    "events_july['Delay']=np.round(events_july['Delay'], 2)\n",
    "\n",
    "trace1 = go.Bar(\n",
    "    y=events_july['Event'][0],\n",
    "    x=events_july['Delay'][0],\n",
    "    name='Rain',\n",
    "    orientation = 'h',\n",
    "    marker = dict(\n",
    "        color = 'rgba(198, 226, 255, 0.6)',\n",
    "    )\n",
    ")\n",
    "\n",
    "trace2 = go.Bar(\n",
    "    y=events_july['Event'][1],\n",
    "    x=events_july['Delay'][1],\n",
    "    name='Rain-Thunderstorm',\n",
    "    orientation = 'h',\n",
    "    marker = dict(\n",
    "        color = 'rgba(127, 255, 220, 0.6)',\n",
    "    )\n",
    ")\n",
    "\n",
    "\n",
    "data7 = [trace1,trace2]\n",
    "layout7 = go.Layout(\n",
    "    barmode='stack',\n",
    "    title='Departure Delays During Events @ JFK, July 2013',\n",
    "    yaxis=dict(\n",
    "        title='Event Category',\n",
    "        tickangle=45\n",
    "    ),\n",
    "     xaxis=dict(\n",
    "        title='Departure Delay in Minutes'\n",
    "    )\n",
    ")\n",
    "fig7 = go.Figure(data=data7, layout=layout7)\n",
    "py.iplot(fig7)\n",
    "\n",
    "\n"
   ]
  },
  {
   "cell_type": "code",
   "execution_count": 34,
   "metadata": {
    "collapsed": false
   },
   "outputs": [
    {
     "data": {
      "text/html": [
       "<iframe id=\"igraph\" scrolling=\"no\" style=\"border:none;\"seamless=\"seamless\" src=\"https://plot.ly/~mall2694/194.embed\" height=\"525px\" width=\"100%\"></iframe>"
      ],
      "text/plain": [
       "<plotly.tools.PlotlyDisplay object>"
      ]
     },
     "execution_count": 34,
     "metadata": {},
     "output_type": "execute_result"
    }
   ],
   "source": [
    "events_dec=dec_df.groupby(['Event'])['DEP_DELAY_NEW'].mean()\n",
    "events_dec = events_dec.reset_index()\n",
    "events_dec.columns = ['Event','Delay']\n",
    "events_dec['Delay']=np.round(events_dec['Delay'], 2)\n",
    "\n",
    "trace1 = go.Bar(\n",
    "    y=events_dec['Event'][0],\n",
    "    x=events_dec['Delay'][0],\n",
    "    name='Fog',\n",
    "    orientation = 'h',\n",
    "    marker = dict(\n",
    "        color = 'rgba(205, 205, 19, 0.6)',\n",
    "    )\n",
    ")\n",
    "\n",
    "trace2 = go.Bar(\n",
    "    y=events_dec['Event'][1],\n",
    "    x=events_dec['Delay'][1],\n",
    "    name='Fog-Rain',\n",
    "    orientation = 'h',\n",
    "    marker = dict(\n",
    "        color = 'rgba(255, 193, 37, 0.6)',\n",
    "    )\n",
    ")\n",
    "\n",
    "trace3 = go.Bar(\n",
    "    y=events_dec['Event'][2],\n",
    "    x=events_dec['Delay'][2],\n",
    "    name='Fog-Rain-Snow',\n",
    "    orientation = 'h',\n",
    "    marker = dict(\n",
    "        color = 'rgba(205, 103, 5, 0.6)',\n",
    "    )\n",
    ")\n",
    "\n",
    "trace4 = go.Bar(\n",
    "    y=events_dec['Event'][3],\n",
    "    x=events_dec['Delay'][3],\n",
    "    name='Rain',\n",
    "    orientation = 'h',\n",
    "    marker = dict(\n",
    "        color = 'rgba(198, 113, 113, 0.6)',\n",
    "    )\n",
    "    )\n",
    "\n",
    "trace5 = go.Bar(\n",
    "    y=events_dec['Event'][4],\n",
    "    x=events_dec['Delay'][4],\n",
    "    name='Rain-Snow',\n",
    "    orientation = 'h',\n",
    "    marker = dict(\n",
    "        color = 'rgba(0, 134, 139, 0.6)',\n",
    "    )\n",
    "    )\n",
    "\n",
    "trace6 = go.Bar(\n",
    "    y=events_dec['Event'][5],\n",
    "    x=events_dec['Delay'][5],\n",
    "    name='Snow',\n",
    "    orientation = 'h',\n",
    "    marker = dict(\n",
    "        color = 'rgba(0, 128, 0, 0.6)',\n",
    "    )\n",
    "\n",
    ")\n",
    "\n",
    "data8 = [trace1,trace2,trace3,trace4,trace5,trace6]\n",
    "layout8 = go.Layout(\n",
    "    barmode='stack',\n",
    "    title='Departure Delays During Events @ JFK, December 2013',\n",
    "    yaxis=dict(\n",
    "        title='Event Category',\n",
    "        tickangle=-45\n",
    "    ),\n",
    "     xaxis=dict(\n",
    "        title='Departure Delay in Minutes'\n",
    "    )\n",
    ")\n",
    "fig8 = go.Figure(data=data8, layout=layout8)\n",
    "py.iplot(fig8)\n",
    "\n"
   ]
  },
  {
   "cell_type": "code",
   "execution_count": null,
   "metadata": {
    "collapsed": true
   },
   "outputs": [],
   "source": []
  },
  {
   "cell_type": "code",
   "execution_count": null,
   "metadata": {
    "collapsed": true
   },
   "outputs": [],
   "source": []
  }
 ],
 "metadata": {
  "kernelspec": {
   "display_name": "Python 2",
   "language": "python",
   "name": "python2"
  },
  "language_info": {
   "codemirror_mode": {
    "name": "ipython",
    "version": 2
   },
   "file_extension": ".py",
   "mimetype": "text/x-python",
   "name": "python",
   "nbconvert_exporter": "python",
   "pygments_lexer": "ipython2",
   "version": "2.7.11"
  }
 },
 "nbformat": 4,
 "nbformat_minor": 0
}
