{
 "cells": [
  {
   "cell_type": "code",
   "execution_count": 1,
   "metadata": {
    "collapsed": true
   },
   "outputs": [],
   "source": [
    "import pandas as pd\n",
    "import matplotlib.pyplot as plt\n",
    "%matplotlib inline\n",
    "import numpy as np"
   ]
  },
  {
   "cell_type": "code",
   "execution_count": 2,
   "metadata": {
    "collapsed": false
   },
   "outputs": [
    {
     "data": {
      "text/html": [
       "<style>body {\n",
       "    margin: 0;\n",
       "    font-family: Helvetica;\n",
       "}\n",
       "table.dataframe {\n",
       "    border-collapse: collapse;\n",
       "    border: none;\n",
       "}\n",
       "table.dataframe tr {\n",
       "    border: none;\n",
       "}\n",
       "table.dataframe td, table.dataframe th {\n",
       "    margin: 0;\n",
       "    border: 1px solid white;\n",
       "    padding-left: 0.25em;\n",
       "    padding-right: 0.25em;\n",
       "}\n",
       "table.dataframe th:not(:empty) {\n",
       "    background-color: #fec;\n",
       "    text-align: left;\n",
       "    font-weight: normal;\n",
       "}\n",
       "table.dataframe tr:nth-child(2) th:empty {\n",
       "    border-left: none;\n",
       "    border-right: 1px dashed #888;\n",
       "}\n",
       "table.dataframe td {\n",
       "    border: 2px solid #ccf;\n",
       "    background-color: #f4f4ff;\n",
       "}\n",
       "h3 {\n",
       "    color: white;\n",
       "    background-color: black;\n",
       "    padding: 0.5em;\n",
       "}\n",
       "</style>"
      ],
      "text/plain": [
       "<IPython.core.display.HTML object>"
      ]
     },
     "execution_count": 2,
     "metadata": {},
     "output_type": "execute_result"
    }
   ],
   "source": [
    "from IPython.core.display import HTML\n",
    "css = open('style-table.css').read() + open('style-notebook.css').read()\n",
    "HTML('<style>{}</style>'.format(css))"
   ]
  },
  {
   "cell_type": "markdown",
   "metadata": {},
   "source": [
    "Machine Learning Algorithm to Classify Departure Delays at JFK due to Inclement Weather"
   ]
  },
  {
   "cell_type": "markdown",
   "metadata": {},
   "source": [
    "Part A: Preparing Data for Training, Cross Validation and Testing."
   ]
  },
  {
   "cell_type": "code",
   "execution_count": 66,
   "metadata": {
    "collapsed": false
   },
   "outputs": [],
   "source": [
    "#Using data from 2013 to perform training\n",
    "training_df_2013 = pd.DataFrame.from_csv('finalfile.csv', index_col=None,\n",
    "                                      parse_dates=['FL_DATE'])\n",
    "jfk_temp_2013 = pd.DataFrame.from_csv('JFK_Temperatures_2013.csv', index_col=None,\n",
    "                                      parse_dates=['FL_DATE'], encoding='utf-8-sig')\n",
    "jfk_temp_2013.columns = ['FL_DATE', 'Max_Temp', 'Mean_Temp','Min_Temp','Max_Vis','Mean_Vis','Min_Vis','Max_Wind','Mean_Wind','Cloud_Cover','Event']\n",
    "\n",
    "training_df_2013=training_df_2013.merge(jfk_temp_2013)\n",
    "training_df_2013=training_df_2013.sort(['YEAR','MONTH','DAY_OF_MONTH'],ascending=True)\n",
    "training_df_2013['label_train']=training_df_2013.DEP_DELAY_NEW>0\n",
    "df_label_train=training_df_2013['label_train']\n",
    "df_label_train=df_label_train.map({False:0,True:1})\n",
    "training_df_2013['Event'] = training_df_2013['Event'].map({'Snow': 1, 'Rain-Snow': 2, 'Rain':3,'Fog-Rain':4,'Fog-Rain-Snow':5,'Fog-Snow':6,'Fog':7,'Thunderstorm':8,'Rain-Thunderstorm':9,'Fog-Thunderstorm':10,'Fog-Rain-Thunderstorm':11})\n",
    "training_df_2013['Event']=training_df_2013['Event'].fillna(0)\n",
    "df_features_train=training_df_2013[['Min_Temp','Min_Vis','Max_Wind','Cloud_Cover','Event']]\n"
   ]
  },
  {
   "cell_type": "code",
   "execution_count": 60,
   "metadata": {
    "collapsed": false
   },
   "outputs": [],
   "source": [
    "#Using data from 2014 to perform Crossvalidation (CV)\n",
    "CV_df_2014 = pd.DataFrame.from_csv('finalfile2014.csv', index_col=None,\n",
    "                                      parse_dates=['FL_DATE'])\n",
    "jfk_temp_2014 = pd.DataFrame.from_csv('JFK_Temperatures_2014.csv', index_col=None,\n",
    "                                      parse_dates=['FL_DATE'], encoding='utf-8-sig')\n",
    "jfk_temp_2014.columns = ['FL_DATE', 'Max_Temp', 'Mean_Temp','Min_Temp','Max_Vis','Mean_Vis','Min_Vis','Max_Wind','Mean_Wind','Cloud_Cover','Event']\n",
    "\n",
    "CV_df_2014=CV_df_2014.merge(jfk_temp_2014)\n",
    "CV_df_2014=CV_df_2014.sort(['YEAR','MONTH','DAY_OF_MONTH'],ascending=True)\n",
    "CV_df_2014['label_train']=CV_df_2014.DEP_DELAY_NEW>0\n",
    "df_label_CV=CV_df_2014['label_train']\n",
    "df_label_CV=df_label_CV.map({False:0,True:1})\n",
    "CV_df_2014['Event'] = CV_df_2014['Event'].map({'Snow': 1, 'Rain-Snow': 2, 'Rain':3,'Fog-Rain':4,'Fog-Rain-Snow':5,'Fog-Snow':6,'Fog':7,'Thunderstorm':8,'Rain-Thunderstorm':9,'Fog-Thunderstorm':10,'Fog-Rain-Thunderstorm':11})\n",
    "CV_df_2014['Event']=CV_df_2014['Event'].fillna(0)\n",
    "df_features_CV=CV_df_2014[['Min_Temp','Min_Vis','Max_Wind','Cloud_Cover','Event']]\n"
   ]
  },
  {
   "cell_type": "code",
   "execution_count": 116,
   "metadata": {
    "collapsed": false
   },
   "outputs": [],
   "source": [
    "#Using data from 2015 to perform Testing\n",
    "testing_df_2015 = pd.DataFrame.from_csv('finalfile2015.csv', index_col=None,\n",
    "                                      parse_dates=['FL_DATE'])\n",
    "jfk_temp_2015 = pd.DataFrame.from_csv('JFK_Temperatures_2015.csv', index_col=None,\n",
    "                                      parse_dates=['FL_DATE'], encoding='utf-8-sig')\n",
    "jfk_temp_2015.columns = ['FL_DATE', 'Max_Temp', 'Mean_Temp','Min_Temp','Max_Vis','Mean_Vis','Min_Vis','Max_Wind','Mean_Wind','Cloud_Cover','Event']\n",
    "testing_df_2015=testing_df_2015.merge(jfk_temp_2015)\n",
    "testing_df_2015=testing_df_2015.sort(['YEAR','MONTH','DAY_OF_MONTH'],ascending=True)\n",
    "testing_df_2015['label_train']=testing_df_2015.DEP_DELAY_NEW>0\n",
    "df_label_testing=testing_df_2015['label_train']\n",
    "df_label_testing=df_label_testing.map({False:0,True:1})\n",
    "testing_df_2015['Event']=testing_df_2015['Event'].map({'Snow': 1, 'Rain-Snow': 2, 'Rain':3,'Fog-Rain':4,'Fog-Rain-Snow':5,'Fog-Snow':6,'Fog':7,'Thunderstorm':8,'Rain-Thunderstorm':9,'Fog-Thunderstorm':10,'Fog-Rain-Thunderstorm':11})\n",
    "testing_df_2015['Event']=testing_df_2015['Event'].fillna(0)\n",
    "df_features_testing=testing_df_2015[['Min_Temp','Min_Vis','Max_Wind','Cloud_Cover','Event']]\n"
   ]
  },
  {
   "cell_type": "markdown",
   "metadata": {},
   "source": [
    "Training:"
   ]
  },
  {
   "cell_type": "code",
   "execution_count": 110,
   "metadata": {
    "collapsed": false
   },
   "outputs": [
    {
     "name": "stdout",
     "output_type": "stream",
     "text": [
      "Done Training without errors\n"
     ]
    }
   ],
   "source": [
    "from sklearn import svm\n",
    "clf = svm.SVC(kernel='rbf', C=1000,gamma=16)\n",
    "clf.fit(df_features_train,df_label_train)\n",
    "print \"Done Training without errors\""
   ]
  },
  {
   "cell_type": "markdown",
   "metadata": {},
   "source": [
    "CROSS VALIDATION:"
   ]
  },
  {
   "cell_type": "code",
   "execution_count": 111,
   "metadata": {
    "collapsed": false
   },
   "outputs": [
    {
     "name": "stdout",
     "output_type": "stream",
     "text": [
      "Done Cross Validating without errors\n"
     ]
    }
   ],
   "source": [
    "pred = clf.predict(df_features_CV)\n",
    "print \"Done Cross Validating without errors\""
   ]
  },
  {
   "cell_type": "code",
   "execution_count": 112,
   "metadata": {
    "collapsed": false
   },
   "outputs": [],
   "source": [
    "labels_CV=df_label_CV.transpose()"
   ]
  },
  {
   "cell_type": "code",
   "execution_count": 119,
   "metadata": {
    "collapsed": false
   },
   "outputs": [
    {
     "name": "stdout",
     "output_type": "stream",
     "text": [
      "Accuracy of the algorithm after Cross Validation 0.641\n"
     ]
    }
   ],
   "source": [
    "from sklearn.metrics import accuracy_score\n",
    "acc = accuracy_score(pred,labels_CV)\n",
    "print \"Accuracy of the algorithm after Cross Validation %.3f\" %acc"
   ]
  },
  {
   "cell_type": "markdown",
   "metadata": {},
   "source": [
    "TESTING:"
   ]
  },
  {
   "cell_type": "code",
   "execution_count": 114,
   "metadata": {
    "collapsed": true
   },
   "outputs": [],
   "source": [
    "labels_TESTING=df_label_testing.transpose()\n"
   ]
  },
  {
   "cell_type": "code",
   "execution_count": 117,
   "metadata": {
    "collapsed": false
   },
   "outputs": [
    {
     "name": "stdout",
     "output_type": "stream",
     "text": [
      "Done Testing without errors\n"
     ]
    }
   ],
   "source": [
    "pred1 = clf.predict(df_features_testing)\n",
    "print \"Done Testing without errors\""
   ]
  },
  {
   "cell_type": "code",
   "execution_count": 118,
   "metadata": {
    "collapsed": false
   },
   "outputs": [
    {
     "name": "stdout",
     "output_type": "stream",
     "text": [
      "Accuracy of the algorithm on the Test Dataset is 0.625\n"
     ]
    }
   ],
   "source": [
    "from sklearn.metrics import accuracy_score\n",
    "acc1 = accuracy_score(pred1,labels_TESTING)\n",
    "print \"Accuracy of the algorithm on the Test Dataset is %.3f\" %acc1"
   ]
  },
  {
   "cell_type": "code",
   "execution_count": null,
   "metadata": {
    "collapsed": true
   },
   "outputs": [],
   "source": []
  },
  {
   "cell_type": "code",
   "execution_count": null,
   "metadata": {
    "collapsed": true
   },
   "outputs": [],
   "source": []
  },
  {
   "cell_type": "code",
   "execution_count": null,
   "metadata": {
    "collapsed": true
   },
   "outputs": [],
   "source": []
  },
  {
   "cell_type": "code",
   "execution_count": null,
   "metadata": {
    "collapsed": true
   },
   "outputs": [],
   "source": []
  },
  {
   "cell_type": "code",
   "execution_count": null,
   "metadata": {
    "collapsed": true
   },
   "outputs": [],
   "source": []
  }
 ],
 "metadata": {
  "kernelspec": {
   "display_name": "Python 2",
   "language": "python",
   "name": "python2"
  },
  "language_info": {
   "codemirror_mode": {
    "name": "ipython",
    "version": 2
   },
   "file_extension": ".py",
   "mimetype": "text/x-python",
   "name": "python",
   "nbconvert_exporter": "python",
   "pygments_lexer": "ipython2",
   "version": "2.7.11"
  }
 },
 "nbformat": 4,
 "nbformat_minor": 0
}
