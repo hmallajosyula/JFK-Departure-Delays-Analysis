{
 "cells": [
  {
   "cell_type": "code",
   "execution_count": 1,
   "metadata": {
    "collapsed": true
   },
   "outputs": [],
   "source": [
    "import pandas as pd\n",
    "import matplotlib.pyplot as plt\n",
    "%matplotlib inline\n",
    "import numpy as np"
   ]
  },
  {
   "cell_type": "code",
   "execution_count": 104,
   "metadata": {
    "collapsed": false
   },
   "outputs": [],
   "source": [
    "from IPython.display import display\n",
    "import plotly.plotly as py # interactive graphing\n",
    "import plotly.offline\n",
    "import plotly.graph_objs as go\n",
    "from plotly.graph_objs import Bar, Scatter, Marker, Layout \n",
    "py.sign_in('mall2694', 'bzoyys7d8k')"
   ]
  },
  {
   "cell_type": "code",
   "execution_count": 3,
   "metadata": {
    "collapsed": false
   },
   "outputs": [
    {
     "data": {
      "text/html": [
       "<style>body {\n",
       "    margin: 0;\n",
       "    font-family: Helvetica;\n",
       "}\n",
       "table.dataframe {\n",
       "    border-collapse: collapse;\n",
       "    border: none;\n",
       "}\n",
       "table.dataframe tr {\n",
       "    border: none;\n",
       "}\n",
       "table.dataframe td, table.dataframe th {\n",
       "    margin: 0;\n",
       "    border: 1px solid white;\n",
       "    padding-left: 0.25em;\n",
       "    padding-right: 0.25em;\n",
       "}\n",
       "table.dataframe th:not(:empty) {\n",
       "    background-color: #fec;\n",
       "    text-align: left;\n",
       "    font-weight: normal;\n",
       "}\n",
       "table.dataframe tr:nth-child(2) th:empty {\n",
       "    border-left: none;\n",
       "    border-right: 1px dashed #888;\n",
       "}\n",
       "table.dataframe td {\n",
       "    border: 2px solid #ccf;\n",
       "    background-color: #f4f4ff;\n",
       "}\n",
       "h3 {\n",
       "    color: white;\n",
       "    background-color: black;\n",
       "    padding: 0.5em;\n",
       "}\n",
       "</style>"
      ],
      "text/plain": [
       "<IPython.core.display.HTML object>"
      ]
     },
     "execution_count": 3,
     "metadata": {},
     "output_type": "execute_result"
    }
   ],
   "source": [
    "from IPython.core.display import HTML\n",
    "css = open('style-table.css').read() + open('style-notebook.css').read()\n",
    "HTML('<style>{}</style>'.format(css))"
   ]
  },
  {
   "cell_type": "markdown",
   "metadata": {},
   "source": [
    "Importing Air Carrier Delays data for 2013 downloaded from: "
   ]
  },
  {
   "cell_type": "code",
   "execution_count": 4,
   "metadata": {
    "collapsed": false
   },
   "outputs": [
    {
     "data": {
      "text/html": [
       "<div style=\"max-height:1000px;max-width:1500px;overflow:auto;\">\n",
       "<table border=\"1\" class=\"dataframe\">\n",
       "  <thead>\n",
       "    <tr style=\"text-align: right;\">\n",
       "      <th></th>\n",
       "      <th>YEAR</th>\n",
       "      <th>MONTH</th>\n",
       "      <th>DAY_OF_MONTH</th>\n",
       "      <th>DAY_OF_WEEK</th>\n",
       "      <th>FL_DATE</th>\n",
       "      <th>UNIQUE_CARRIER</th>\n",
       "      <th>FL_NUM</th>\n",
       "      <th>ORIGIN</th>\n",
       "      <th>DEST</th>\n",
       "      <th>DEP_TIME</th>\n",
       "      <th>DEP_DELAY_NEW</th>\n",
       "    </tr>\n",
       "  </thead>\n",
       "  <tbody>\n",
       "    <tr>\n",
       "      <th>0</th>\n",
       "      <td> 2013</td>\n",
       "      <td> 1</td>\n",
       "      <td> 18</td>\n",
       "      <td> 5</td>\n",
       "      <td>2013-01-18</td>\n",
       "      <td> DL</td>\n",
       "      <td> 1508</td>\n",
       "      <td> JFK</td>\n",
       "      <td> RSW</td>\n",
       "      <td> 1603</td>\n",
       "      <td>   0</td>\n",
       "    </tr>\n",
       "    <tr>\n",
       "      <th>1</th>\n",
       "      <td> 2013</td>\n",
       "      <td> 1</td>\n",
       "      <td> 18</td>\n",
       "      <td> 5</td>\n",
       "      <td>2013-01-18</td>\n",
       "      <td> DL</td>\n",
       "      <td> 1529</td>\n",
       "      <td> JFK</td>\n",
       "      <td> LAS</td>\n",
       "      <td> 1220</td>\n",
       "      <td> 135</td>\n",
       "    </tr>\n",
       "    <tr>\n",
       "      <th>2</th>\n",
       "      <td> 2013</td>\n",
       "      <td> 1</td>\n",
       "      <td> 18</td>\n",
       "      <td> 5</td>\n",
       "      <td>2013-01-18</td>\n",
       "      <td> DL</td>\n",
       "      <td> 1643</td>\n",
       "      <td> JFK</td>\n",
       "      <td> SEA</td>\n",
       "      <td> 1836</td>\n",
       "      <td>   1</td>\n",
       "    </tr>\n",
       "    <tr>\n",
       "      <th>3</th>\n",
       "      <td> 2013</td>\n",
       "      <td> 1</td>\n",
       "      <td> 18</td>\n",
       "      <td> 5</td>\n",
       "      <td>2013-01-18</td>\n",
       "      <td> DL</td>\n",
       "      <td> 1729</td>\n",
       "      <td> JFK</td>\n",
       "      <td> LAS</td>\n",
       "      <td> 1909</td>\n",
       "      <td>   0</td>\n",
       "    </tr>\n",
       "    <tr>\n",
       "      <th>4</th>\n",
       "      <td> 2013</td>\n",
       "      <td> 1</td>\n",
       "      <td> 18</td>\n",
       "      <td> 5</td>\n",
       "      <td>2013-01-18</td>\n",
       "      <td> DL</td>\n",
       "      <td> 1765</td>\n",
       "      <td> JFK</td>\n",
       "      <td> SFO</td>\n",
       "      <td> 1000</td>\n",
       "      <td>   0</td>\n",
       "    </tr>\n",
       "  </tbody>\n",
       "</table>\n",
       "</div>"
      ],
      "text/plain": [
       "   YEAR  MONTH  DAY_OF_MONTH  DAY_OF_WEEK    FL_DATE UNIQUE_CARRIER  FL_NUM  \\\n",
       "0  2013      1            18            5 2013-01-18             DL    1508   \n",
       "1  2013      1            18            5 2013-01-18             DL    1529   \n",
       "2  2013      1            18            5 2013-01-18             DL    1643   \n",
       "3  2013      1            18            5 2013-01-18             DL    1729   \n",
       "4  2013      1            18            5 2013-01-18             DL    1765   \n",
       "\n",
       "  ORIGIN DEST  DEP_TIME  DEP_DELAY_NEW  \n",
       "0    JFK  RSW      1603              0  \n",
       "1    JFK  LAS      1220            135  \n",
       "2    JFK  SEA      1836              1  \n",
       "3    JFK  LAS      1909              0  \n",
       "4    JFK  SFO      1000              0  "
      ]
     },
     "execution_count": 4,
     "metadata": {},
     "output_type": "execute_result"
    }
   ],
   "source": [
    "carrier_df_2013 = pd.DataFrame.from_csv('finalfile.csv', index_col=None,\n",
    "                                      parse_dates=['FL_DATE'])\n",
    "carrier_df_2013.head()\n"
   ]
  },
  {
   "cell_type": "code",
   "execution_count": 5,
   "metadata": {
    "collapsed": false
   },
   "outputs": [
    {
     "data": {
      "text/plain": [
       "111279"
      ]
     },
     "execution_count": 5,
     "metadata": {},
     "output_type": "execute_result"
    }
   ],
   "source": [
    "len(carrier_df_2013)"
   ]
  },
  {
   "cell_type": "markdown",
   "metadata": {
    "collapsed": true
   },
   "source": [
    "Importing Carrier Names CSV file to merge with the Mega Dataframe"
   ]
  },
  {
   "cell_type": "code",
   "execution_count": 133,
   "metadata": {
    "collapsed": false
   },
   "outputs": [
    {
     "data": {
      "text/html": [
       "<div style=\"max-height:1000px;max-width:1500px;overflow:auto;\">\n",
       "<table border=\"1\" class=\"dataframe\">\n",
       "  <thead>\n",
       "    <tr style=\"text-align: right;\">\n",
       "      <th></th>\n",
       "      <th>Code</th>\n",
       "      <th>Description</th>\n",
       "    </tr>\n",
       "  </thead>\n",
       "  <tbody>\n",
       "    <tr>\n",
       "      <th>0</th>\n",
       "      <td> NaN</td>\n",
       "      <td>                NaN</td>\n",
       "    </tr>\n",
       "    <tr>\n",
       "      <th>1</th>\n",
       "      <td> 02Q</td>\n",
       "      <td>      Titan Airways</td>\n",
       "    </tr>\n",
       "    <tr>\n",
       "      <th>2</th>\n",
       "      <td> NaN</td>\n",
       "      <td>                NaN</td>\n",
       "    </tr>\n",
       "    <tr>\n",
       "      <th>3</th>\n",
       "      <td> 04Q</td>\n",
       "      <td> Tradewind Aviation</td>\n",
       "    </tr>\n",
       "    <tr>\n",
       "      <th>4</th>\n",
       "      <td> NaN</td>\n",
       "      <td>                NaN</td>\n",
       "    </tr>\n",
       "  </tbody>\n",
       "</table>\n",
       "</div>"
      ],
      "text/plain": [
       "  Code         Description\n",
       "0  NaN                 NaN\n",
       "1  02Q       Titan Airways\n",
       "2  NaN                 NaN\n",
       "3  04Q  Tradewind Aviation\n",
       "4  NaN                 NaN"
      ]
     },
     "execution_count": 133,
     "metadata": {},
     "output_type": "execute_result"
    }
   ],
   "source": [
    "carrier_names=pd.DataFrame.from_csv('carriers.csv', index_col=None)\n",
    "carrier_names.head()"
   ]
  },
  {
   "cell_type": "code",
   "execution_count": 134,
   "metadata": {
    "collapsed": true
   },
   "outputs": [],
   "source": [
    "carrier_names = carrier_names[carrier_names.Code.notnull()]"
   ]
  },
  {
   "cell_type": "code",
   "execution_count": 135,
   "metadata": {
    "collapsed": false
   },
   "outputs": [],
   "source": [
    "carrier_names=carrier_names.rename(columns={'Code':'UNIQUE_CARRIER'})"
   ]
  },
  {
   "cell_type": "code",
   "execution_count": 136,
   "metadata": {
    "collapsed": false
   },
   "outputs": [
    {
     "data": {
      "text/html": [
       "<div style=\"max-height:1000px;max-width:1500px;overflow:auto;\">\n",
       "<table border=\"1\" class=\"dataframe\">\n",
       "  <thead>\n",
       "    <tr style=\"text-align: right;\">\n",
       "      <th></th>\n",
       "      <th>UNIQUE_CARRIER</th>\n",
       "      <th>Description</th>\n",
       "    </tr>\n",
       "  </thead>\n",
       "  <tbody>\n",
       "    <tr>\n",
       "      <th>1</th>\n",
       "      <td> 02Q</td>\n",
       "      <td>                 Titan Airways</td>\n",
       "    </tr>\n",
       "    <tr>\n",
       "      <th>3</th>\n",
       "      <td> 04Q</td>\n",
       "      <td>            Tradewind Aviation</td>\n",
       "    </tr>\n",
       "    <tr>\n",
       "      <th>5</th>\n",
       "      <td> 05Q</td>\n",
       "      <td>           Comlux Aviation, AG</td>\n",
       "    </tr>\n",
       "    <tr>\n",
       "      <th>7</th>\n",
       "      <td> 06Q</td>\n",
       "      <td> Master Top Linhas Aereas Ltd.</td>\n",
       "    </tr>\n",
       "    <tr>\n",
       "      <th>9</th>\n",
       "      <td> 07Q</td>\n",
       "      <td>           Flair Airlines Ltd.</td>\n",
       "    </tr>\n",
       "  </tbody>\n",
       "</table>\n",
       "</div>"
      ],
      "text/plain": [
       "  UNIQUE_CARRIER                    Description\n",
       "1            02Q                  Titan Airways\n",
       "3            04Q             Tradewind Aviation\n",
       "5            05Q            Comlux Aviation, AG\n",
       "7            06Q  Master Top Linhas Aereas Ltd.\n",
       "9            07Q            Flair Airlines Ltd."
      ]
     },
     "execution_count": 136,
     "metadata": {},
     "output_type": "execute_result"
    }
   ],
   "source": [
    "carrier_names.head()"
   ]
  },
  {
   "cell_type": "code",
   "execution_count": 137,
   "metadata": {
    "collapsed": false
   },
   "outputs": [],
   "source": [
    "carrier_df_2013=carrier_df_2013.merge(carrier_names,how='inner')"
   ]
  },
  {
   "cell_type": "code",
   "execution_count": 138,
   "metadata": {
    "collapsed": false
   },
   "outputs": [
    {
     "data": {
      "text/plain": [
       "108284"
      ]
     },
     "execution_count": 138,
     "metadata": {},
     "output_type": "execute_result"
    }
   ],
   "source": [
    "len(carrier_df_2013)"
   ]
  },
  {
   "cell_type": "markdown",
   "metadata": {},
   "source": [
    "Daily Weather Data imported into CSV from: http://www.wunderground.com/history/airport/"
   ]
  },
  {
   "cell_type": "code",
   "execution_count": 246,
   "metadata": {
    "collapsed": false
   },
   "outputs": [],
   "source": [
    "jfk_temp_2013 = pd.DataFrame.from_csv('JFK_Temperatures_2013.csv', index_col=None,\n",
    "                                      parse_dates=['FL_DATE'], encoding='utf-8-sig')\n"
   ]
  },
  {
   "cell_type": "code",
   "execution_count": 264,
   "metadata": {
    "collapsed": false
   },
   "outputs": [],
   "source": [
    "jfk_temp_2013.columns = ['FL_DATE', 'Max_Temp', 'Mean_Temp','Min_Temp','Max_Vis','Mean_Vis','Min_Vis','Max_Wind','Mean_Wind','Cloud_Cover','Event']"
   ]
  },
  {
   "cell_type": "markdown",
   "metadata": {},
   "source": [
    "Merging the temperature information with the Flight information mega dataframe"
   ]
  },
  {
   "cell_type": "code",
   "execution_count": 268,
   "metadata": {
    "collapsed": true
   },
   "outputs": [],
   "source": [
    "carrier_df_2013=carrier_df_2013.merge(jfk_temp_2013,how='inner')"
   ]
  },
  {
   "cell_type": "code",
   "execution_count": 269,
   "metadata": {
    "collapsed": false
   },
   "outputs": [
    {
     "data": {
      "text/plain": [
       "108284"
      ]
     },
     "execution_count": 269,
     "metadata": {},
     "output_type": "execute_result"
    }
   ],
   "source": [
    "len(carrier_df_2013)"
   ]
  },
  {
   "cell_type": "code",
   "execution_count": 270,
   "metadata": {
    "collapsed": false
   },
   "outputs": [
    {
     "data": {
      "text/html": [
       "<div style=\"max-height:1000px;max-width:1500px;overflow:auto;\">\n",
       "<table border=\"1\" class=\"dataframe\">\n",
       "  <thead>\n",
       "    <tr style=\"text-align: right;\">\n",
       "      <th>MONTH</th>\n",
       "      <th>1</th>\n",
       "      <th>2</th>\n",
       "      <th>3</th>\n",
       "      <th>4</th>\n",
       "      <th>5</th>\n",
       "      <th>6</th>\n",
       "      <th>7</th>\n",
       "      <th>8</th>\n",
       "      <th>9</th>\n",
       "      <th>10</th>\n",
       "      <th>11</th>\n",
       "      <th>12</th>\n",
       "    </tr>\n",
       "    <tr>\n",
       "      <th>Description</th>\n",
       "      <th></th>\n",
       "      <th></th>\n",
       "      <th></th>\n",
       "      <th></th>\n",
       "      <th></th>\n",
       "      <th></th>\n",
       "      <th></th>\n",
       "      <th></th>\n",
       "      <th></th>\n",
       "      <th></th>\n",
       "      <th></th>\n",
       "      <th></th>\n",
       "    </tr>\n",
       "  </thead>\n",
       "  <tbody>\n",
       "    <tr>\n",
       "      <th>American Airlines Inc.</th>\n",
       "      <td>  337</td>\n",
       "      <td> 366</td>\n",
       "      <td> 246</td>\n",
       "      <td> 797</td>\n",
       "      <td> 853</td>\n",
       "      <td>  292</td>\n",
       "      <td>  396</td>\n",
       "      <td> 294</td>\n",
       "      <td> 1014</td>\n",
       "      <td> 247</td>\n",
       "      <td> 636</td>\n",
       "      <td> 321</td>\n",
       "    </tr>\n",
       "    <tr>\n",
       "      <th>American Eagle Airlines Inc.</th>\n",
       "      <td>  853</td>\n",
       "      <td> 323</td>\n",
       "      <td> 308</td>\n",
       "      <td> 275</td>\n",
       "      <td> 286</td>\n",
       "      <td> 1137</td>\n",
       "      <td> 1005</td>\n",
       "      <td> 319</td>\n",
       "      <td>  322</td>\n",
       "      <td> 342</td>\n",
       "      <td> 196</td>\n",
       "      <td> 212</td>\n",
       "    </tr>\n",
       "    <tr>\n",
       "      <th>Atlantic Southeast Airlines</th>\n",
       "      <td>  266</td>\n",
       "      <td> 303</td>\n",
       "      <td> 345</td>\n",
       "      <td> 323</td>\n",
       "      <td> 242</td>\n",
       "      <td>  388</td>\n",
       "      <td>  536</td>\n",
       "      <td> 361</td>\n",
       "      <td>  222</td>\n",
       "      <td> 295</td>\n",
       "      <td> 313</td>\n",
       "      <td> 503</td>\n",
       "    </tr>\n",
       "    <tr>\n",
       "      <th>Delta Air Lines Inc.</th>\n",
       "      <td>  599</td>\n",
       "      <td> 288</td>\n",
       "      <td> 800</td>\n",
       "      <td> 960</td>\n",
       "      <td> 401</td>\n",
       "      <td>  899</td>\n",
       "      <td>  589</td>\n",
       "      <td> 508</td>\n",
       "      <td>  337</td>\n",
       "      <td> 317</td>\n",
       "      <td> 250</td>\n",
       "      <td> 825</td>\n",
       "    </tr>\n",
       "    <tr>\n",
       "      <th>Hawaiian Airlines Inc.</th>\n",
       "      <td> 1301</td>\n",
       "      <td> 206</td>\n",
       "      <td>  48</td>\n",
       "      <td>  53</td>\n",
       "      <td>  55</td>\n",
       "      <td>  113</td>\n",
       "      <td>   88</td>\n",
       "      <td> 134</td>\n",
       "      <td>    2</td>\n",
       "      <td>   4</td>\n",
       "      <td>  28</td>\n",
       "      <td>   5</td>\n",
       "    </tr>\n",
       "    <tr>\n",
       "      <th>JetBlue Airways</th>\n",
       "      <td>  315</td>\n",
       "      <td> 355</td>\n",
       "      <td> 394</td>\n",
       "      <td> 406</td>\n",
       "      <td> 348</td>\n",
       "      <td>  381</td>\n",
       "      <td>  453</td>\n",
       "      <td> 340</td>\n",
       "      <td>  386</td>\n",
       "      <td> 221</td>\n",
       "      <td> 223</td>\n",
       "      <td> 392</td>\n",
       "    </tr>\n",
       "    <tr>\n",
       "      <th>Pinnacle Airlines Inc.</th>\n",
       "      <td>  360</td>\n",
       "      <td> 747</td>\n",
       "      <td> 354</td>\n",
       "      <td> 337</td>\n",
       "      <td> 319</td>\n",
       "      <td>  376</td>\n",
       "      <td>  430</td>\n",
       "      <td> 329</td>\n",
       "      <td>  359</td>\n",
       "      <td> 327</td>\n",
       "      <td> 408</td>\n",
       "      <td> 360</td>\n",
       "    </tr>\n",
       "    <tr>\n",
       "      <th>United Air Lines Inc.</th>\n",
       "      <td>  293</td>\n",
       "      <td> 209</td>\n",
       "      <td> 163</td>\n",
       "      <td> 364</td>\n",
       "      <td> 227</td>\n",
       "      <td>  393</td>\n",
       "      <td>  348</td>\n",
       "      <td> 161</td>\n",
       "      <td>  189</td>\n",
       "      <td> 238</td>\n",
       "      <td> 312</td>\n",
       "      <td> 227</td>\n",
       "    </tr>\n",
       "    <tr>\n",
       "      <th>Virgin America</th>\n",
       "      <td>  246</td>\n",
       "      <td> 255</td>\n",
       "      <td> 262</td>\n",
       "      <td> 242</td>\n",
       "      <td> 434</td>\n",
       "      <td>  325</td>\n",
       "      <td>  634</td>\n",
       "      <td> 392</td>\n",
       "      <td>  266</td>\n",
       "      <td> 164</td>\n",
       "      <td> 367</td>\n",
       "      <td> 119</td>\n",
       "    </tr>\n",
       "  </tbody>\n",
       "</table>\n",
       "</div>"
      ],
      "text/plain": [
       "MONTH                           1    2    3    4    5     6     7    8     9   \\\n",
       "Description                                                                     \n",
       "American Airlines Inc.         337  366  246  797  853   292   396  294  1014   \n",
       "American Eagle Airlines Inc.   853  323  308  275  286  1137  1005  319   322   \n",
       "Atlantic Southeast Airlines    266  303  345  323  242   388   536  361   222   \n",
       "Delta Air Lines Inc.           599  288  800  960  401   899   589  508   337   \n",
       "Hawaiian Airlines Inc.        1301  206   48   53   55   113    88  134     2   \n",
       "JetBlue Airways                315  355  394  406  348   381   453  340   386   \n",
       "Pinnacle Airlines Inc.         360  747  354  337  319   376   430  329   359   \n",
       "United Air Lines Inc.          293  209  163  364  227   393   348  161   189   \n",
       "Virgin America                 246  255  262  242  434   325   634  392   266   \n",
       "\n",
       "MONTH                          10   11   12  \n",
       "Description                                  \n",
       "American Airlines Inc.        247  636  321  \n",
       "American Eagle Airlines Inc.  342  196  212  \n",
       "Atlantic Southeast Airlines   295  313  503  \n",
       "Delta Air Lines Inc.          317  250  825  \n",
       "Hawaiian Airlines Inc.          4   28    5  \n",
       "JetBlue Airways               221  223  392  \n",
       "Pinnacle Airlines Inc.        327  408  360  \n",
       "United Air Lines Inc.         238  312  227  \n",
       "Virgin America                164  367  119  "
      ]
     },
     "execution_count": 270,
     "metadata": {},
     "output_type": "execute_result"
    }
   ],
   "source": [
    "freq_users = carrier_df_2013.groupby(['MONTH','Description'])['DEP_DELAY_NEW'].max()\n",
    "freq_users=freq_users.unstack('MONTH')\n",
    "freq_users"
   ]
  },
  {
   "cell_type": "code",
   "execution_count": 158,
   "metadata": {
    "collapsed": false
   },
   "outputs": [],
   "source": [
    "freq_users = freq_users.reset_index()"
   ]
  },
  {
   "cell_type": "code",
   "execution_count": 159,
   "metadata": {
    "collapsed": false
   },
   "outputs": [],
   "source": [
    "freq_users.columns = ['Carrier', 'Jan', 'Feb','Mar','Apr','May','June','July','Aug','Sep','Oct','Nov','Dec']"
   ]
  },
  {
   "cell_type": "markdown",
   "metadata": {},
   "source": [
    "PLOTTING DEPARTURE DELAY TRENDS PER AIRLINES (JAN-DEC,2013)"
   ]
  },
  {
   "cell_type": "code",
   "execution_count": 230,
   "metadata": {
    "collapsed": false
   },
   "outputs": [],
   "source": [
    "trace0 = go.Bar(\n",
    "    x=freq_users['Carrier'],\n",
    "    y=freq_users['Jan'],\n",
    "    name='Jan',\n",
    "        )\n",
    "\n",
    "trace1 = go.Bar(\n",
    "    x=freq_users['Carrier'],\n",
    "    y=freq_users['Feb'],\n",
    "    name='Feb',\n",
    "        )\n",
    "\n",
    "trace2 = go.Bar(\n",
    "    x=freq_users['Carrier'],\n",
    "    y=freq_users['Mar'],\n",
    "    name='Mar',\n",
    "        )\n",
    "\n",
    "trace3 = go.Bar(\n",
    "    x=freq_users['Carrier'],\n",
    "    y=freq_users['Apr'],\n",
    "    name='Apr',\n",
    "        )\n",
    "\n",
    "trace4 = go.Bar(\n",
    "    x=freq_users['Carrier'],\n",
    "    y=freq_users['May'],\n",
    "    name='May',\n",
    "        )\n",
    "\n",
    "trace5 = go.Bar(\n",
    "    x=freq_users['Carrier'],\n",
    "    y=freq_users['June'],\n",
    "    name='June',\n",
    "        )\n",
    "\n",
    "trace6 = go.Bar(\n",
    "    x=freq_users['Carrier'],\n",
    "    y=freq_users['July'],\n",
    "    name='July',\n",
    "        )\n",
    "\n",
    "trace7 = go.Bar(\n",
    "    x=freq_users['Carrier'],\n",
    "    y=freq_users['Aug'],\n",
    "    name='Aug',\n",
    "        )\n",
    "\n",
    "trace8 = go.Bar(\n",
    "    x=freq_users['Carrier'],\n",
    "    y=freq_users['Sep'],\n",
    "    name='Sep',\n",
    "        )\n",
    "\n",
    "trace9 = go.Bar(\n",
    "    x=freq_users['Carrier'],\n",
    "    y=freq_users['Oct'],\n",
    "    name='Oct',\n",
    "        )\n",
    "trace10 = go.Bar(\n",
    "    x=freq_users['Carrier'],\n",
    "    y=freq_users['Nov'],\n",
    "    name='Nov',\n",
    "        )\n",
    "trace11 = go.Bar(\n",
    "    x=freq_users['Carrier'],\n",
    "    y=freq_users['Dec'],\n",
    "    name='Dec',\n",
    "        )\n",
    "\n",
    "\n",
    "\n",
    "data1 = [trace0, trace1,trace2,trace3,trace4,trace5,trace6,trace7,trace8,trace9,trace10,trace11]\n",
    "layout1 = go.Layout(\n",
    "    title='Max Departure Delay out of JFK Each Month (2013)',\n",
    "    margin=dict(b=150),\n",
    "    xaxis=dict(\n",
    "        # set x-axis' labels direction at 45 degree angle\n",
    "        tickangle=-45,\n",
    "    ),\n",
    "     yaxis=dict(\n",
    "        title='Departure Delay in minutes'),\n",
    "    barmode='stack',\n",
    ")"
   ]
  },
  {
   "cell_type": "code",
   "execution_count": 231,
   "metadata": {
    "collapsed": false
   },
   "outputs": [
    {
     "data": {
      "text/html": [
       "<iframe id=\"igraph\" scrolling=\"no\" style=\"border:none;\"seamless=\"seamless\" src=\"https://plot.ly/~mall2694/40.embed\" height=\"525px\" width=\"100%\"></iframe>"
      ],
      "text/plain": [
       "<plotly.tools.PlotlyDisplay object>"
      ]
     },
     "execution_count": 231,
     "metadata": {},
     "output_type": "execute_result"
    }
   ],
   "source": [
    "fig1 = go.Figure(data=data1, layout=layout1)\n",
    "py.iplot(fig1)"
   ]
  },
  {
   "cell_type": "markdown",
   "metadata": {},
   "source": [
    "Exploring the relationship between weather and departure delays"
   ]
  },
  {
   "cell_type": "code",
   "execution_count": 271,
   "metadata": {
    "collapsed": false
   },
   "outputs": [
    {
     "data": {
      "text/html": [
       "<div style=\"max-height:1000px;max-width:1500px;overflow:auto;\">\n",
       "<table border=\"1\" class=\"dataframe\">\n",
       "  <thead>\n",
       "    <tr style=\"text-align: right;\">\n",
       "      <th></th>\n",
       "      <th>YEAR</th>\n",
       "      <th>MONTH</th>\n",
       "      <th>DAY_OF_MONTH</th>\n",
       "      <th>DAY_OF_WEEK</th>\n",
       "      <th>FL_DATE</th>\n",
       "      <th>UNIQUE_CARRIER</th>\n",
       "      <th>FL_NUM</th>\n",
       "      <th>ORIGIN</th>\n",
       "      <th>DEST</th>\n",
       "      <th>DEP_TIME</th>\n",
       "      <th>...</th>\n",
       "      <th> Max_Wind_Speed</th>\n",
       "      <th> Mean_Wind_Speed</th>\n",
       "      <th> Cloud_Cover</th>\n",
       "      <th>Max_Vis</th>\n",
       "      <th>Mean_Vis</th>\n",
       "      <th>Min_Vis</th>\n",
       "      <th>Max_Wind</th>\n",
       "      <th>Mean_Wind</th>\n",
       "      <th>Cloud_Cover</th>\n",
       "      <th>Event</th>\n",
       "    </tr>\n",
       "  </thead>\n",
       "  <tbody>\n",
       "    <tr>\n",
       "      <th>0</th>\n",
       "      <td> 2013</td>\n",
       "      <td> 1</td>\n",
       "      <td> 18</td>\n",
       "      <td> 5</td>\n",
       "      <td>2013-01-18</td>\n",
       "      <td> DL</td>\n",
       "      <td> 1508</td>\n",
       "      <td> JFK</td>\n",
       "      <td> RSW</td>\n",
       "      <td> 1603</td>\n",
       "      <td>...</td>\n",
       "      <td> 22</td>\n",
       "      <td> 13</td>\n",
       "      <td> 4</td>\n",
       "      <td> 10</td>\n",
       "      <td> 10</td>\n",
       "      <td> 10</td>\n",
       "      <td> 22</td>\n",
       "      <td> 13</td>\n",
       "      <td> 4</td>\n",
       "      <td> NaN</td>\n",
       "    </tr>\n",
       "    <tr>\n",
       "      <th>1</th>\n",
       "      <td> 2013</td>\n",
       "      <td> 1</td>\n",
       "      <td> 18</td>\n",
       "      <td> 5</td>\n",
       "      <td>2013-01-18</td>\n",
       "      <td> DL</td>\n",
       "      <td> 1529</td>\n",
       "      <td> JFK</td>\n",
       "      <td> LAS</td>\n",
       "      <td> 1220</td>\n",
       "      <td>...</td>\n",
       "      <td> 22</td>\n",
       "      <td> 13</td>\n",
       "      <td> 4</td>\n",
       "      <td> 10</td>\n",
       "      <td> 10</td>\n",
       "      <td> 10</td>\n",
       "      <td> 22</td>\n",
       "      <td> 13</td>\n",
       "      <td> 4</td>\n",
       "      <td> NaN</td>\n",
       "    </tr>\n",
       "    <tr>\n",
       "      <th>2</th>\n",
       "      <td> 2013</td>\n",
       "      <td> 1</td>\n",
       "      <td> 18</td>\n",
       "      <td> 5</td>\n",
       "      <td>2013-01-18</td>\n",
       "      <td> DL</td>\n",
       "      <td> 1643</td>\n",
       "      <td> JFK</td>\n",
       "      <td> SEA</td>\n",
       "      <td> 1836</td>\n",
       "      <td>...</td>\n",
       "      <td> 22</td>\n",
       "      <td> 13</td>\n",
       "      <td> 4</td>\n",
       "      <td> 10</td>\n",
       "      <td> 10</td>\n",
       "      <td> 10</td>\n",
       "      <td> 22</td>\n",
       "      <td> 13</td>\n",
       "      <td> 4</td>\n",
       "      <td> NaN</td>\n",
       "    </tr>\n",
       "    <tr>\n",
       "      <th>3</th>\n",
       "      <td> 2013</td>\n",
       "      <td> 1</td>\n",
       "      <td> 18</td>\n",
       "      <td> 5</td>\n",
       "      <td>2013-01-18</td>\n",
       "      <td> DL</td>\n",
       "      <td> 1729</td>\n",
       "      <td> JFK</td>\n",
       "      <td> LAS</td>\n",
       "      <td> 1909</td>\n",
       "      <td>...</td>\n",
       "      <td> 22</td>\n",
       "      <td> 13</td>\n",
       "      <td> 4</td>\n",
       "      <td> 10</td>\n",
       "      <td> 10</td>\n",
       "      <td> 10</td>\n",
       "      <td> 22</td>\n",
       "      <td> 13</td>\n",
       "      <td> 4</td>\n",
       "      <td> NaN</td>\n",
       "    </tr>\n",
       "    <tr>\n",
       "      <th>4</th>\n",
       "      <td> 2013</td>\n",
       "      <td> 1</td>\n",
       "      <td> 18</td>\n",
       "      <td> 5</td>\n",
       "      <td>2013-01-18</td>\n",
       "      <td> DL</td>\n",
       "      <td> 1765</td>\n",
       "      <td> JFK</td>\n",
       "      <td> SFO</td>\n",
       "      <td> 1000</td>\n",
       "      <td>...</td>\n",
       "      <td> 22</td>\n",
       "      <td> 13</td>\n",
       "      <td> 4</td>\n",
       "      <td> 10</td>\n",
       "      <td> 10</td>\n",
       "      <td> 10</td>\n",
       "      <td> 22</td>\n",
       "      <td> 13</td>\n",
       "      <td> 4</td>\n",
       "      <td> NaN</td>\n",
       "    </tr>\n",
       "  </tbody>\n",
       "</table>\n",
       "<p>5 rows × 38 columns</p>\n",
       "</div>"
      ],
      "text/plain": [
       "   YEAR  MONTH  DAY_OF_MONTH  DAY_OF_WEEK    FL_DATE UNIQUE_CARRIER  FL_NUM  \\\n",
       "0  2013      1            18            5 2013-01-18             DL    1508   \n",
       "1  2013      1            18            5 2013-01-18             DL    1529   \n",
       "2  2013      1            18            5 2013-01-18             DL    1643   \n",
       "3  2013      1            18            5 2013-01-18             DL    1729   \n",
       "4  2013      1            18            5 2013-01-18             DL    1765   \n",
       "\n",
       "  ORIGIN DEST  DEP_TIME  ...     Max_Wind_Speed  Mean_Wind_Speed  \\\n",
       "0    JFK  RSW      1603  ...                 22               13   \n",
       "1    JFK  LAS      1220  ...                 22               13   \n",
       "2    JFK  SEA      1836  ...                 22               13   \n",
       "3    JFK  LAS      1909  ...                 22               13   \n",
       "4    JFK  SFO      1000  ...                 22               13   \n",
       "\n",
       "    Cloud_Cover  Max_Vis  Mean_Vis  Min_Vis  Max_Wind  Mean_Wind  Cloud_Cover  \\\n",
       "0             4       10        10       10        22         13            4   \n",
       "1             4       10        10       10        22         13            4   \n",
       "2             4       10        10       10        22         13            4   \n",
       "3             4       10        10       10        22         13            4   \n",
       "4             4       10        10       10        22         13            4   \n",
       "\n",
       "   Event  \n",
       "0    NaN  \n",
       "1    NaN  \n",
       "2    NaN  \n",
       "3    NaN  \n",
       "4    NaN  \n",
       "\n",
       "[5 rows x 38 columns]"
      ]
     },
     "execution_count": 271,
     "metadata": {},
     "output_type": "execute_result"
    }
   ],
   "source": [
    "jan_df=carrier_df_2013[carrier_df_2013.MONTH==1]\n",
    "jan_df.head()"
   ]
  },
  {
   "cell_type": "code",
   "execution_count": 149,
   "metadata": {
    "collapsed": false
   },
   "outputs": [
    {
     "data": {
      "text/plain": [
       "8928"
      ]
     },
     "execution_count": 149,
     "metadata": {},
     "output_type": "execute_result"
    }
   ],
   "source": [
    "len(jan_df)"
   ]
  },
  {
   "cell_type": "code",
   "execution_count": 177,
   "metadata": {
    "collapsed": false
   },
   "outputs": [],
   "source": [
    "jan_df=jan_df.sort(['DAY_OF_MONTH'],ascending=True)"
   ]
  },
  {
   "cell_type": "code",
   "execution_count": 285,
   "metadata": {
    "collapsed": false
   },
   "outputs": [
    {
     "data": {
      "text/html": [
       "<div style=\"max-height:1000px;max-width:1500px;overflow:auto;\">\n",
       "<table border=\"1\" class=\"dataframe\">\n",
       "  <thead>\n",
       "    <tr style=\"text-align: right;\">\n",
       "      <th></th>\n",
       "      <th>FL_DATE</th>\n",
       "      <th>Min_Temp</th>\n",
       "      <th>DEP_DELAY_NEW</th>\n",
       "    </tr>\n",
       "  </thead>\n",
       "  <tbody>\n",
       "    <tr>\n",
       "      <th>0</th>\n",
       "      <td>2013-01-01</td>\n",
       "      <td> 27</td>\n",
       "      <td> 14.809689</td>\n",
       "    </tr>\n",
       "    <tr>\n",
       "      <th>1</th>\n",
       "      <td>2013-01-02</td>\n",
       "      <td> 23</td>\n",
       "      <td>  9.939103</td>\n",
       "    </tr>\n",
       "    <tr>\n",
       "      <th>2</th>\n",
       "      <td>2013-01-03</td>\n",
       "      <td> 25</td>\n",
       "      <td> 16.290323</td>\n",
       "    </tr>\n",
       "    <tr>\n",
       "      <th>3</th>\n",
       "      <td>2013-01-04</td>\n",
       "      <td> 30</td>\n",
       "      <td> 12.854369</td>\n",
       "    </tr>\n",
       "    <tr>\n",
       "      <th>4</th>\n",
       "      <td>2013-01-05</td>\n",
       "      <td> 32</td>\n",
       "      <td> 10.188356</td>\n",
       "    </tr>\n",
       "  </tbody>\n",
       "</table>\n",
       "</div>"
      ],
      "text/plain": [
       "     FL_DATE  Min_Temp  DEP_DELAY_NEW\n",
       "0 2013-01-01        27      14.809689\n",
       "1 2013-01-02        23       9.939103\n",
       "2 2013-01-03        25      16.290323\n",
       "3 2013-01-04        30      12.854369\n",
       "4 2013-01-05        32      10.188356"
      ]
     },
     "execution_count": 285,
     "metadata": {},
     "output_type": "execute_result"
    }
   ],
   "source": [
    "temp=jan_df.groupby(['FL_DATE','Min_Temp'])['DEP_DELAY_NEW'].mean()\n",
    "temp = temp.reset_index()\n",
    "temp.head()\n"
   ]
  },
  {
   "cell_type": "code",
   "execution_count": 286,
   "metadata": {
    "collapsed": true
   },
   "outputs": [],
   "source": [
    "temp.columns = ['Date','Min_Temp','Dep_Delay_Max']"
   ]
  },
  {
   "cell_type": "markdown",
   "metadata": {},
   "source": [
    "PLOTTING TEMPERATURE AND DEPARTURE DELAY TRENDS"
   ]
  },
  {
   "cell_type": "code",
   "execution_count": 289,
   "metadata": {
    "collapsed": false
   },
   "outputs": [],
   "source": [
    "trace0 = go.Scatter(\n",
    "    x=temp['Date'],\n",
    "    y=temp['Min_Temp'],\n",
    "    name='Min Daily Temperature',\n",
    "        )\n",
    "\n",
    "trace1 = go.Scatter(\n",
    "    x=temp['Date'],\n",
    "    y=temp['Dep_Delay_Max'],\n",
    "    yaxis='y2',\n",
    "    name='Avg Daily Departure Delay',\n",
    "        )\n",
    "\n",
    "data2 = [trace0, trace1]\n",
    "\n",
    "layout2 = go.Layout(\n",
    "    title='Min Temperatures and Departure Delays @ JFK -Jan2013',\n",
    "    yaxis=dict(\n",
    "        title='Min Temp (F)'\n",
    "    ),\n",
    "    yaxis2=dict(\n",
    "        title='Avg Departure Delay (min)',\n",
    "        titlefont=dict(\n",
    "            color='rgb(148, 103, 189)'\n",
    "        ),\n",
    "        tickfont=dict(\n",
    "            color='rgb(148, 103, 189)'\n",
    "        ),\n",
    "        overlaying='y',\n",
    "        side='right'\n",
    "    )\n",
    ")\n"
   ]
  },
  {
   "cell_type": "code",
   "execution_count": 290,
   "metadata": {
    "collapsed": false
   },
   "outputs": [
    {
     "data": {
      "text/html": [
       "<iframe id=\"igraph\" scrolling=\"no\" style=\"border:none;\"seamless=\"seamless\" src=\"https://plot.ly/~mall2694/50.embed\" height=\"525px\" width=\"100%\"></iframe>"
      ],
      "text/plain": [
       "<plotly.tools.PlotlyDisplay object>"
      ]
     },
     "execution_count": 290,
     "metadata": {},
     "output_type": "execute_result"
    }
   ],
   "source": [
    "fig = go.Figure(data=data2, layout=layout2)\n",
    "py.iplot(fig)\n",
    "\n"
   ]
  },
  {
   "cell_type": "markdown",
   "metadata": {},
   "source": [
    "PLOTTING VISIBILITY AND DELAY TRENDS FOR JANUARY"
   ]
  },
  {
   "cell_type": "code",
   "execution_count": 277,
   "metadata": {
    "collapsed": false
   },
   "outputs": [
    {
     "data": {
      "text/html": [
       "<div style=\"max-height:1000px;max-width:1500px;overflow:auto;\">\n",
       "<table border=\"1\" class=\"dataframe\">\n",
       "  <thead>\n",
       "    <tr style=\"text-align: right;\">\n",
       "      <th></th>\n",
       "      <th>FL_DATE</th>\n",
       "      <th>Min_Vis</th>\n",
       "      <th>DEP_DELAY_NEW</th>\n",
       "    </tr>\n",
       "  </thead>\n",
       "  <tbody>\n",
       "    <tr>\n",
       "      <th>0</th>\n",
       "      <td>2013-01-01</td>\n",
       "      <td> 10</td>\n",
       "      <td> 14.809689</td>\n",
       "    </tr>\n",
       "    <tr>\n",
       "      <th>1</th>\n",
       "      <td>2013-01-02</td>\n",
       "      <td> 10</td>\n",
       "      <td>  9.939103</td>\n",
       "    </tr>\n",
       "    <tr>\n",
       "      <th>2</th>\n",
       "      <td>2013-01-03</td>\n",
       "      <td> 10</td>\n",
       "      <td> 16.290323</td>\n",
       "    </tr>\n",
       "    <tr>\n",
       "      <th>3</th>\n",
       "      <td>2013-01-04</td>\n",
       "      <td> 10</td>\n",
       "      <td> 12.854369</td>\n",
       "    </tr>\n",
       "    <tr>\n",
       "      <th>4</th>\n",
       "      <td>2013-01-05</td>\n",
       "      <td> 10</td>\n",
       "      <td> 10.188356</td>\n",
       "    </tr>\n",
       "  </tbody>\n",
       "</table>\n",
       "</div>"
      ],
      "text/plain": [
       "     FL_DATE  Min_Vis  DEP_DELAY_NEW\n",
       "0 2013-01-01       10      14.809689\n",
       "1 2013-01-02       10       9.939103\n",
       "2 2013-01-03       10      16.290323\n",
       "3 2013-01-04       10      12.854369\n",
       "4 2013-01-05       10      10.188356"
      ]
     },
     "execution_count": 277,
     "metadata": {},
     "output_type": "execute_result"
    }
   ],
   "source": [
    "vis=jan_df.groupby(['FL_DATE','Min_Vis'])['DEP_DELAY_NEW'].mean()\n",
    "vis=vis.reset_index()\n",
    "vis.head()"
   ]
  },
  {
   "cell_type": "code",
   "execution_count": 279,
   "metadata": {
    "collapsed": true
   },
   "outputs": [],
   "source": [
    "vis.columns = ['Date','Min_Vis','Avg_Delay']"
   ]
  },
  {
   "cell_type": "code",
   "execution_count": 302,
   "metadata": {
    "collapsed": false
   },
   "outputs": [],
   "source": [
    "trace0 = go.Scatter(\n",
    "    x=vis['Date'],\n",
    "    y=vis['Min_Vis'],\n",
    "    name='Min Daily Visibility',\n",
    "        )\n",
    "\n",
    "trace1 = go.Scatter(\n",
    "    x=vis['Date'],\n",
    "    y=vis['Avg_Delay'],\n",
    "    yaxis='y2',\n",
    "    name='Average Departure Delay',\n",
    "    )\n",
    "\n",
    "data3 = [trace0, trace1]\n",
    "\n",
    "layout3 = go.Layout(\n",
    "    title='Min Visibility and Departure Delays @ JFK-Jan2013',\n",
    "    yaxis=dict(\n",
    "        title='Min Visibility (ft)'\n",
    "    ),\n",
    "    yaxis2=dict(\n",
    "        title='Avg Departure Delay (min)',\n",
    "        titlefont=dict(\n",
    "            color='rgb(148, 103, 189)'\n",
    "        ),\n",
    "        tickfont=dict(\n",
    "            color='rgb(148, 103, 189)'\n",
    "        ),\n",
    "        overlaying='y',\n",
    "        side='right'\n",
    "    )\n",
    ")\n"
   ]
  },
  {
   "cell_type": "code",
   "execution_count": 303,
   "metadata": {
    "collapsed": false
   },
   "outputs": [
    {
     "data": {
      "text/html": [
       "<iframe id=\"igraph\" scrolling=\"no\" style=\"border:none;\"seamless=\"seamless\" src=\"https://plot.ly/~mall2694/60.embed\" height=\"525px\" width=\"100%\"></iframe>"
      ],
      "text/plain": [
       "<plotly.tools.PlotlyDisplay object>"
      ]
     },
     "execution_count": 303,
     "metadata": {},
     "output_type": "execute_result"
    }
   ],
   "source": [
    "fig2 = go.Figure(data=data3, layout=layout3)\n",
    "py.iplot(fig2)"
   ]
  },
  {
   "cell_type": "code",
   "execution_count": null,
   "metadata": {
    "collapsed": true
   },
   "outputs": [],
   "source": []
  },
  {
   "cell_type": "code",
   "execution_count": null,
   "metadata": {
    "collapsed": true
   },
   "outputs": [],
   "source": []
  },
  {
   "cell_type": "code",
   "execution_count": null,
   "metadata": {
    "collapsed": true
   },
   "outputs": [],
   "source": []
  },
  {
   "cell_type": "code",
   "execution_count": null,
   "metadata": {
    "collapsed": true
   },
   "outputs": [],
   "source": []
  },
  {
   "cell_type": "code",
   "execution_count": null,
   "metadata": {
    "collapsed": true
   },
   "outputs": [],
   "source": []
  },
  {
   "cell_type": "code",
   "execution_count": null,
   "metadata": {
    "collapsed": true
   },
   "outputs": [],
   "source": []
  },
  {
   "cell_type": "code",
   "execution_count": null,
   "metadata": {
    "collapsed": true
   },
   "outputs": [],
   "source": []
  },
  {
   "cell_type": "code",
   "execution_count": null,
   "metadata": {
    "collapsed": true
   },
   "outputs": [],
   "source": []
  }
 ],
 "metadata": {
  "kernelspec": {
   "display_name": "Python 2",
   "language": "python",
   "name": "python2"
  },
  "language_info": {
   "codemirror_mode": {
    "name": "ipython",
    "version": 2
   },
   "file_extension": ".py",
   "mimetype": "text/x-python",
   "name": "python",
   "nbconvert_exporter": "python",
   "pygments_lexer": "ipython2",
   "version": "2.7.11"
  }
 },
 "nbformat": 4,
 "nbformat_minor": 0
}
